{
 "cells": [
  {
   "cell_type": "markdown",
   "id": "daf09bc5-d29f-4c40-8ca2-a87dee1303a6",
   "metadata": {},
   "source": [
    "## Day - 4 DIY"
   ]
  },
  {
   "cell_type": "markdown",
   "id": "a475e3ce-b597-460e-9a94-f8e5b0eb9236",
   "metadata": {},
   "source": [
    "## Q1. Problem Statement:"
   ]
  },
  {
   "cell_type": "markdown",
   "id": "956fe9ce-6284-4c4d-87d5-a43de362513d",
   "metadata": {},
   "source": [
    "# Quotient and Remainder"
   ]
  },
  {
   "cell_type": "markdown",
   "id": "085b5b89-6ef5-4517-89d8-8da6d135a668",
   "metadata": {},
   "source": [
    " Write  a  Python  programwith  a  user-defined  functionthat  takes two integers  as  input,  dividend,  and  divisor.  Print the quotient  and  the remainder of the two numbers by dividing them using the “//” and “%” operators"
   ]
  },
  {
   "cell_type": "code",
   "execution_count": null,
   "id": "dab45eaf-d889-4982-a446-2b5f003d6cd3",
   "metadata": {},
   "outputs": [],
   "source": [
    "#taking inputs from user \n",
    "def fun():\n",
    "    Dividend = int(input(\"Enter the Dividend\"))\n",
    "    Divisor = int(input(\"Enter the Divisor\"))\n",
    "#divinding the two numbers using // and % operators\n",
    "    Quotient = Dividend // Divisor\n",
    "    Remainder = Dividend % Divisor\n",
    "    print(\"Quotient:\", Quotient)\n",
    "    print(\"Remainder:\", Remainder)\n",
    "fun()"
   ]
  },
  {
   "cell_type": "markdown",
   "id": "c37d9c18-f46f-4483-9d89-26956c7fa866",
   "metadata": {},
   "source": [
    "## Q2. Problem Statement:"
   ]
  },
  {
   "cell_type": "markdown",
   "id": "a1b40eb8-2dce-4f8c-beac-87dedd4a9ab5",
   "metadata": {},
   "source": [
    "## Simple Interest Calculator"
   ]
  },
  {
   "cell_type": "markdown",
   "id": "7f77c09f-bd30-4e72-b914-5cf6f3469a30",
   "metadata": {},
   "source": [
    "Write a program in Python to calculate simpleinterest using the lambda function.\n",
    " \n",
    " Hint:Simple interest =(P*R*T)/100, where P is the principal amount, R is the rate, and T is the time/number of years."
   ]
  },
  {
   "cell_type": "code",
   "execution_count": 11,
   "id": "d5d53fe2-80f0-4553-90a5-81d1ab1aec3f",
   "metadata": {},
   "outputs": [
    {
     "name": "stdin",
     "output_type": "stream",
     "text": [
      "Enter the Principle Amount 40000\n",
      "Enter the Time(Number of Years:) 5\n",
      "Enter the Intrest rate: 8\n"
     ]
    },
    {
     "name": "stdout",
     "output_type": "stream",
     "text": [
      "The simple Intrest: 16000.0\n"
     ]
    }
   ],
   "source": [
    "P= int(input(\"Enter the Principle Amount\"))\n",
    "Q= int(input(\"Enter the Time(Number of Years:)\"))\n",
    "R= int(input(\"Enter the Intrest rate:\"))\n",
    "Intrest = lambda P,Q,R: (P*Q*R/100)\n",
    "print(\"The simple Intrest:\", Intrest(P,Q,R))"
   ]
  },
  {
   "cell_type": "code",
   "execution_count": null,
   "id": "fb2ba699-a35b-4f39-873b-9cb190e2805c",
   "metadata": {},
   "outputs": [],
   "source": []
  }
 ],
 "metadata": {
  "kernelspec": {
   "display_name": "Python 3 (ipykernel)",
   "language": "python",
   "name": "python3"
  },
  "language_info": {
   "codemirror_mode": {
    "name": "ipython",
    "version": 3
   },
   "file_extension": ".py",
   "mimetype": "text/x-python",
   "name": "python",
   "nbconvert_exporter": "python",
   "pygments_lexer": "ipython3",
   "version": "3.12.6"
  }
 },
 "nbformat": 4,
 "nbformat_minor": 5
}
