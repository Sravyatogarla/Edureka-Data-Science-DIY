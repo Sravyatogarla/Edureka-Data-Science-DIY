{
 "cells": [
  {
   "cell_type": "markdown",
   "id": "ee3f3ae3-98ff-4bc0-8dba-8df9149cffba",
   "metadata": {},
   "source": [
    "# Day - 14 DIY"
   ]
  },
  {
   "cell_type": "markdown",
   "id": "0432ba9f-71e2-4e27-be2b-53c15a01650d",
   "metadata": {},
   "source": [
    "**Q1. Problem Statement: Handling Null Values**\n",
    "\n",
    "Load the “titanic.csv”file provided on LMS into a DataFrame, find the columns with null values, and drop all the rows in DataFrame with null values to create a new DataFrame."
   ]
  },
  {
   "cell_type": "code",
   "execution_count": 16,
   "id": "02f0cb4e-f67d-4bac-abb0-4618acd1d85f",
   "metadata": {},
   "outputs": [
    {
     "name": "stdout",
     "output_type": "stream",
     "text": [
      "     Unnamed: 0  Survived  Pclass  \\\n",
      "0           NaN         0       3   \n",
      "1         893.0         1       3   \n",
      "2         894.0         0       2   \n",
      "3         895.0         0       3   \n",
      "4         896.0         1       3   \n",
      "..          ...       ...     ...   \n",
      "413      1305.0         0       3   \n",
      "414      1306.0         1       1   \n",
      "415      1307.0         0       3   \n",
      "416      1308.0         0       3   \n",
      "417      1309.0         0       3   \n",
      "\n",
      "                                             Name     Sex   Age  SibSp  Parch  \\\n",
      "0                                Kelly, Mr. James    male  34.5      0      0   \n",
      "1                Wilkes, Mrs. James (Ellen Needs)  female  47.0      1      0   \n",
      "2                       Myles, Mr. Thomas Francis    male  62.0      0      0   \n",
      "3                                Wirz, Mr. Albert    male  27.0      0      0   \n",
      "4    Hirvonen, Mrs. Alexander (Helga E Lindqvist)  female  22.0      1      1   \n",
      "..                                            ...     ...   ...    ...    ...   \n",
      "413                            Spector, Mr. Woolf    male   NaN      0      0   \n",
      "414                  Oliva y Ocana, Dona. Fermina  female  39.0      0      0   \n",
      "415                  Saether, Mr. Simon Sivertsen    male  38.5      0      0   \n",
      "416                           Ware, Mr. Frederick    male   NaN      0      0   \n",
      "417                      Peter, Master. Michael J    male   NaN      1      1   \n",
      "\n",
      "                 Ticket      Fare Cabin Embarked  \n",
      "0                330911    7.8292   NaN        Q  \n",
      "1                363272    7.0000   NaN        S  \n",
      "2                240276    9.6875   NaN        Q  \n",
      "3                315154    8.6625   NaN        S  \n",
      "4               3101298   12.2875   NaN        S  \n",
      "..                  ...       ...   ...      ...  \n",
      "413           A.5. 3236    8.0500   NaN        S  \n",
      "414            PC 17758  108.9000  C105        C  \n",
      "415  SOTON/O.Q. 3101262    7.2500   NaN        S  \n",
      "416              359309    8.0500   NaN        S  \n",
      "417                2668   22.3583   NaN        C  \n",
      "\n",
      "[418 rows x 12 columns]\n"
     ]
    }
   ],
   "source": [
    "#PROBLEM STATEMNET-1\n",
    "#cleaning the titanic.csv file\n",
    "import pandas as pd\n",
    "#load the dataset\n",
    "data = pd.read_csv(\"titanic.csv\")\n",
    "df = pd.DataFrame(data)\n",
    "print(df)"
   ]
  },
  {
   "cell_type": "code",
   "execution_count": 10,
   "id": "fc4a9154-a25e-43e8-9428-cf3f79d0eb58",
   "metadata": {},
   "outputs": [
    {
     "name": "stdout",
     "output_type": "stream",
     "text": [
      "Identifying null values:\n",
      " Unnamed: 0      1\n",
      "Survived        0\n",
      "Pclass          0\n",
      "Name            0\n",
      "Sex             0\n",
      "Age            86\n",
      "SibSp           0\n",
      "Parch           0\n",
      "Ticket          0\n",
      "Fare            1\n",
      "Cabin         327\n",
      "Embarked        0\n",
      "dtype: int64\n"
     ]
    }
   ],
   "source": [
    "#find columns with null values \n",
    "null_counts = df.isnull().sum()\n",
    "print(\"Identifying null values:\\n\", null_counts)"
   ]
  },
  {
   "cell_type": "code",
   "execution_count": 11,
   "id": "22972876-0728-4751-b990-32aa7739b94d",
   "metadata": {},
   "outputs": [
    {
     "name": "stdout",
     "output_type": "stream",
     "text": [
      "\n",
      "Dropping null values:\n",
      "      Unnamed: 0  Survived  Pclass  \\\n",
      "12        904.0         1       1   \n",
      "14        906.0         1       1   \n",
      "24        916.0         1       1   \n",
      "26        918.0         1       1   \n",
      "28        920.0         0       1   \n",
      "..          ...       ...     ...   \n",
      "404      1296.0         0       1   \n",
      "405      1297.0         0       2   \n",
      "407      1299.0         0       1   \n",
      "411      1303.0         1       1   \n",
      "414      1306.0         1       1   \n",
      "\n",
      "                                                  Name     Sex   Age  SibSp  \\\n",
      "12       Snyder, Mrs. John Pillsbury (Nelle Stevenson)  female  23.0      1   \n",
      "14   Chaffee, Mrs. Herbert Fuller (Carrie Constance...  female  47.0      1   \n",
      "24     Ryerson, Mrs. Arthur Larned (Emily Maria Borie)  female  48.0      1   \n",
      "26                        Ostby, Miss. Helene Ragnhild  female  22.0      0   \n",
      "28                             Brady, Mr. John Bertram    male  41.0      0   \n",
      "..                                                 ...     ...   ...    ...   \n",
      "404                       Frauenthal, Mr. Isaac Gerald    male  43.0      1   \n",
      "405       Nourney, Mr. Alfred (Baron von Drachstedt\")\"    male  20.0      0   \n",
      "407                         Widener, Mr. George Dunton    male  50.0      1   \n",
      "411    Minahan, Mrs. William Edward (Lillian E Thorpe)  female  37.0      1   \n",
      "414                       Oliva y Ocana, Dona. Fermina  female  39.0      0   \n",
      "\n",
      "     Parch         Ticket      Fare            Cabin Embarked  \n",
      "12       0          21228   82.2667              B45        S  \n",
      "14       0    W.E.P. 5734   61.1750              E31        S  \n",
      "24       3       PC 17608  262.3750  B57 B59 B63 B66        C  \n",
      "26       1         113509   61.9792              B36        C  \n",
      "28       0         113054   30.5000              A21        S  \n",
      "..     ...            ...       ...              ...      ...  \n",
      "404      0          17765   27.7208              D40        C  \n",
      "405      0  SC/PARIS 2166   13.8625              D38        C  \n",
      "407      1         113503  211.5000              C80        C  \n",
      "411      0          19928   90.0000              C78        Q  \n",
      "414      0       PC 17758  108.9000             C105        C  \n",
      "\n",
      "[87 rows x 12 columns]\n"
     ]
    }
   ],
   "source": [
    "#drop rows with null values\n",
    "df_cleaned = df.dropna()\n",
    "print(\"\\nDropping null values:\\n\", df_cleaned)"
   ]
  },
  {
   "cell_type": "code",
   "execution_count": 13,
   "id": "b658eecc-2450-46de-80c1-bfe79bc62896",
   "metadata": {},
   "outputs": [
    {
     "name": "stdout",
     "output_type": "stream",
     "text": [
      "     Unnamed: 0  Survived  Pclass   Name    Sex    Age  SibSp  Parch  Ticket  \\\n",
      "0          True     False   False  False  False  False  False  False   False   \n",
      "1         False     False   False  False  False  False  False  False   False   \n",
      "2         False     False   False  False  False  False  False  False   False   \n",
      "3         False     False   False  False  False  False  False  False   False   \n",
      "4         False     False   False  False  False  False  False  False   False   \n",
      "..          ...       ...     ...    ...    ...    ...    ...    ...     ...   \n",
      "413       False     False   False  False  False   True  False  False   False   \n",
      "414       False     False   False  False  False  False  False  False   False   \n",
      "415       False     False   False  False  False  False  False  False   False   \n",
      "416       False     False   False  False  False   True  False  False   False   \n",
      "417       False     False   False  False  False   True  False  False   False   \n",
      "\n",
      "      Fare  Cabin  Embarked  \n",
      "0    False   True     False  \n",
      "1    False   True     False  \n",
      "2    False   True     False  \n",
      "3    False   True     False  \n",
      "4    False   True     False  \n",
      "..     ...    ...       ...  \n",
      "413  False   True     False  \n",
      "414  False  False     False  \n",
      "415  False   True     False  \n",
      "416  False   True     False  \n",
      "417  False   True     False  \n",
      "\n",
      "[418 rows x 12 columns]\n"
     ]
    }
   ],
   "source": [
    "#data frame showing true/false for null values\n",
    "null_values_df = df.isnull()\n",
    "print(null_values_df)"
   ]
  },
  {
   "cell_type": "code",
   "execution_count": 12,
   "id": "594d591a-427b-44ff-8446-58542163b924",
   "metadata": {},
   "outputs": [
    {
     "name": "stdout",
     "output_type": "stream",
     "text": [
      "Original DataFrame shape: (418, 12)\n",
      "cleaned DataFrame shape: (87, 12)\n"
     ]
    }
   ],
   "source": [
    "#print the shape of the original and cleaned DataFrames\n",
    "print(\"Original DataFrame shape:\", df.shape)\n",
    "print(\"cleaned DataFrame shape:\", df_cleaned.shape)"
   ]
  },
  {
   "cell_type": "code",
   "execution_count": 8,
   "id": "b2675a96-6b32-41be-9f36-5d26459b2a9f",
   "metadata": {},
   "outputs": [
    {
     "name": "stdout",
     "output_type": "stream",
     "text": [
      "    Unnamed: 0  Survived  Pclass  \\\n",
      "0        904.0         1       1   \n",
      "1        906.0         1       1   \n",
      "2        916.0         1       1   \n",
      "3        918.0         1       1   \n",
      "4        920.0         0       1   \n",
      "..         ...       ...     ...   \n",
      "82      1296.0         0       1   \n",
      "83      1297.0         0       2   \n",
      "84      1299.0         0       1   \n",
      "85      1303.0         1       1   \n",
      "86      1306.0         1       1   \n",
      "\n",
      "                                                 Name     Sex   Age  SibSp  \\\n",
      "0       Snyder, Mrs. John Pillsbury (Nelle Stevenson)  female  23.0      1   \n",
      "1   Chaffee, Mrs. Herbert Fuller (Carrie Constance...  female  47.0      1   \n",
      "2     Ryerson, Mrs. Arthur Larned (Emily Maria Borie)  female  48.0      1   \n",
      "3                        Ostby, Miss. Helene Ragnhild  female  22.0      0   \n",
      "4                             Brady, Mr. John Bertram    male  41.0      0   \n",
      "..                                                ...     ...   ...    ...   \n",
      "82                       Frauenthal, Mr. Isaac Gerald    male  43.0      1   \n",
      "83       Nourney, Mr. Alfred (Baron von Drachstedt\")\"    male  20.0      0   \n",
      "84                         Widener, Mr. George Dunton    male  50.0      1   \n",
      "85    Minahan, Mrs. William Edward (Lillian E Thorpe)  female  37.0      1   \n",
      "86                       Oliva y Ocana, Dona. Fermina  female  39.0      0   \n",
      "\n",
      "    Parch         Ticket      Fare            Cabin Embarked  \n",
      "0       0          21228   82.2667              B45        S  \n",
      "1       0    W.E.P. 5734   61.1750              E31        S  \n",
      "2       3       PC 17608  262.3750  B57 B59 B63 B66        C  \n",
      "3       1         113509   61.9792              B36        C  \n",
      "4       0         113054   30.5000              A21        S  \n",
      "..    ...            ...       ...              ...      ...  \n",
      "82      0          17765   27.7208              D40        C  \n",
      "83      0  SC/PARIS 2166   13.8625              D38        C  \n",
      "84      1         113503  211.5000              C80        C  \n",
      "85      0          19928   90.0000              C78        Q  \n",
      "86      0       PC 17758  108.9000             C105        C  \n",
      "\n",
      "[87 rows x 12 columns]\n"
     ]
    }
   ],
   "source": [
    "#save the cleaned Dataframe to a new csv file\n",
    "df_cleaned.to_csv(\"titanic_cleaned.csv\", index = False)\n",
    "df2 = pd.read_csv(\"titanic_cleaned.csv\")\n",
    "print(df2)"
   ]
  },
  {
   "cell_type": "markdown",
   "id": "cb90a99f-8356-474c-9a94-eb009bdfac8e",
   "metadata": {},
   "source": [
    "**Q2. Problem Statement: Handling Duplicate Values**\n",
    "\n",
    "Load the “titanic.csv”file provided on LMS into a DataFrame, find out the fields in the dataset with duplicate values based on the “Ticket” column, and drop all the rows with duplicate values to create a new DataFrame."
   ]
  },
  {
   "cell_type": "code",
   "execution_count": 14,
   "id": "4da05a0c-d518-4215-9ab4-eb6f11ce3eff",
   "metadata": {},
   "outputs": [
    {
     "name": "stdout",
     "output_type": "stream",
     "text": [
      "\n",
      "DataFrame without Duplicates: \n",
      "      Unnamed: 0  Survived  Pclass  \\\n",
      "0           NaN         0       3   \n",
      "1         893.0         1       3   \n",
      "2         894.0         0       2   \n",
      "3         895.0         0       3   \n",
      "4         896.0         1       3   \n",
      "..          ...       ...     ...   \n",
      "413      1305.0         0       3   \n",
      "414      1306.0         1       1   \n",
      "415      1307.0         0       3   \n",
      "416      1308.0         0       3   \n",
      "417      1309.0         0       3   \n",
      "\n",
      "                                             Name     Sex   Age  SibSp  Parch  \\\n",
      "0                                Kelly, Mr. James    male  34.5      0      0   \n",
      "1                Wilkes, Mrs. James (Ellen Needs)  female  47.0      1      0   \n",
      "2                       Myles, Mr. Thomas Francis    male  62.0      0      0   \n",
      "3                                Wirz, Mr. Albert    male  27.0      0      0   \n",
      "4    Hirvonen, Mrs. Alexander (Helga E Lindqvist)  female  22.0      1      1   \n",
      "..                                            ...     ...   ...    ...    ...   \n",
      "413                            Spector, Mr. Woolf    male   NaN      0      0   \n",
      "414                  Oliva y Ocana, Dona. Fermina  female  39.0      0      0   \n",
      "415                  Saether, Mr. Simon Sivertsen    male  38.5      0      0   \n",
      "416                           Ware, Mr. Frederick    male   NaN      0      0   \n",
      "417                      Peter, Master. Michael J    male   NaN      1      1   \n",
      "\n",
      "                 Ticket      Fare Cabin Embarked  \n",
      "0                330911    7.8292   NaN        Q  \n",
      "1                363272    7.0000   NaN        S  \n",
      "2                240276    9.6875   NaN        Q  \n",
      "3                315154    8.6625   NaN        S  \n",
      "4               3101298   12.2875   NaN        S  \n",
      "..                  ...       ...   ...      ...  \n",
      "413           A.5. 3236    8.0500   NaN        S  \n",
      "414            PC 17758  108.9000  C105        C  \n",
      "415  SOTON/O.Q. 3101262    7.2500   NaN        S  \n",
      "416              359309    8.0500   NaN        S  \n",
      "417                2668   22.3583   NaN        C  \n",
      "\n",
      "[363 rows x 12 columns]\n"
     ]
    }
   ],
   "source": [
    "\n",
    "#finding out the duplicate \"ticket\"values\n",
    "duplicate_rows = df[df.duplicated(subset = 'Ticket', keep=False)]\n",
    "\n",
    "#drop duplicate rows based on \"ticket\"\n",
    "df_without_duplicates = df.drop_duplicates(subset = \"Ticket\", keep =\"first\")\n",
    "\n",
    "#print the data frame withot duplicate rows \n",
    "print(\"\\nDataFrame without Duplicates: \\n\", df_without_duplicates)"
   ]
  },
  {
   "cell_type": "code",
   "execution_count": null,
   "id": "ed3fe00e-12a2-4c49-8fb8-ba80eb1ec9f7",
   "metadata": {},
   "outputs": [],
   "source": []
  }
 ],
 "metadata": {
  "kernelspec": {
   "display_name": "Python 3 (ipykernel)",
   "language": "python",
   "name": "python3"
  },
  "language_info": {
   "codemirror_mode": {
    "name": "ipython",
    "version": 3
   },
   "file_extension": ".py",
   "mimetype": "text/x-python",
   "name": "python",
   "nbconvert_exporter": "python",
   "pygments_lexer": "ipython3",
   "version": "3.12.6"
  }
 },
 "nbformat": 4,
 "nbformat_minor": 5
}
