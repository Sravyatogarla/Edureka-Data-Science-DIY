{
 "cells": [
  {
   "cell_type": "markdown",
   "id": "11526153-8c63-46e2-86dc-5eebbe5c9426",
   "metadata": {},
   "source": [
    "# Day - 8 DIY"
   ]
  },
  {
   "cell_type": "markdown",
   "id": "30a19bca-1768-44b8-8770-3eb7b1219b26",
   "metadata": {},
   "source": [
    "**Q1. Problem Statement: Understanding NumPy Array Functions -I**\n",
    "\n",
    "Define a NumPy array with 4*5 dimensions, and swap the array's dimensions to make it 5*4 using suitable functions"
   ]
  },
  {
   "cell_type": "code",
   "execution_count": 7,
   "id": "debfbc35-1fc6-4bb9-b116-d67a486d4cac",
   "metadata": {},
   "outputs": [
    {
     "name": "stdout",
     "output_type": "stream",
     "text": [
      "Original Array:\n",
      "[ 0  1  2  3  4  5  6  7  8  9 10 11 12 13 14 15 16 17 18 19]\n",
      "Reshaped Array:\n",
      "[[ 0  1  2  3]\n",
      " [ 4  5  6  7]\n",
      " [ 8  9 10 11]\n",
      " [12 13 14 15]\n",
      " [16 17 18 19]]\n",
      "Transposed Array:\n",
      "[[ 0  4  8 12 16]\n",
      " [ 1  5  9 13 17]\n",
      " [ 2  6 10 14 18]\n",
      " [ 3  7 11 15 19]]\n"
     ]
    }
   ],
   "source": [
    "import numpy as np\n",
    "#create a numpy array with 4*5 dimensions\n",
    "original_array = np.arange(20)\n",
    "#print the original array\n",
    "print(\"Original Array:\") \n",
    "print(original_array)\n",
    "\n",
    "#reshape the original array with 5*4 dimensions\n",
    "reshape_array = original_array.reshape(5,4)\n",
    "#print the reshaped array\n",
    "print(\"Reshaped Array:\")\n",
    "print(reshape_array)\n",
    "\n",
    "#transpose the original array\n",
    "transpose_array =  reshape_array.T\n",
    "#print the transposed array\n",
    "print(\"Transposed Array:\")\n",
    "print(transpose_array)\n"
   ]
  },
  {
   "cell_type": "markdown",
   "id": "460b9310-45bb-4072-8136-253fa7623ae8",
   "metadata": {},
   "source": [
    "**Q2. Problem Statement:Understanding NumPy Array Functions -II**\n",
    "\n",
    "Write   a   Python   program   to   create   two   2-dimensional   arrays   and   applyhstack(), vstack(), concatenate(), and split()functions to them to get the output as shown below."
   ]
  },
  {
   "cell_type": "code",
   "execution_count": 17,
   "id": "17b15a88-2087-4b8a-9509-fc84cf01f835",
   "metadata": {},
   "outputs": [
    {
     "name": "stdout",
     "output_type": "stream",
     "text": [
      "First Array is:\n",
      "[[1 2]\n",
      " [3 4]]\n",
      "Applying the hstack() function:\n",
      "[[1 2 6 7]\n",
      " [3 4 8 9]]\n",
      "Applying the vstack() function:\n",
      "[[1 2]\n",
      " [3 4]\n",
      " [6 7]\n",
      " [8 9]]\n",
      "Applying the concatenate() function:\n",
      "[[1 2]\n",
      " [3 4]\n",
      " [6 7]\n",
      " [8 9]]\n",
      "applying the split() function:\n",
      "[array([[1, 2, 6, 7]]), array([[3, 4, 8, 9]])]\n"
     ]
    }
   ],
   "source": [
    "import numpy as np\n",
    "#creating a 2D arrays\n",
    "array1 = np.array([[1,2],[3,4]])\n",
    "print(\"First Array is:\")\n",
    "print(array1)\n",
    "array2 = np.array([[6,7],[8,9]])\n",
    "#appliying the hstack function\n",
    "hstacked_array = np.hstack((array1, array2))\n",
    "print(\"Applying the hstack() function:\")\n",
    "print(hstacked_array)\n",
    "\n",
    "#applying the vstack function\n",
    "vstacked_array = np.vstack((array1, array2))\n",
    "print(\"Applying the vstack() function:\")\n",
    "print(vstacked_array)\n",
    "\n",
    "#applying the concatenate function\n",
    "concatenate_array = np.concatenate((array1, array2))\n",
    "print(\"Applying the concatenate() function:\")\n",
    "print(concatenate_array)\n",
    "\n",
    "#applying the split() function\n",
    "splitted_array = (np.split(hstacked_array,2, axis=0))\n",
    "print(\"applying the split() function:\")\n",
    "print(splitted_array)"
   ]
  },
  {
   "cell_type": "code",
   "execution_count": null,
   "id": "a9eba11a-f3f5-4ad6-98a7-3e0dee0d3ff4",
   "metadata": {},
   "outputs": [],
   "source": []
  }
 ],
 "metadata": {
  "kernelspec": {
   "display_name": "Python 3 (ipykernel)",
   "language": "python",
   "name": "python3"
  },
  "language_info": {
   "codemirror_mode": {
    "name": "ipython",
    "version": 3
   },
   "file_extension": ".py",
   "mimetype": "text/x-python",
   "name": "python",
   "nbconvert_exporter": "python",
   "pygments_lexer": "ipython3",
   "version": "3.12.6"
  }
 },
 "nbformat": 4,
 "nbformat_minor": 5
}
