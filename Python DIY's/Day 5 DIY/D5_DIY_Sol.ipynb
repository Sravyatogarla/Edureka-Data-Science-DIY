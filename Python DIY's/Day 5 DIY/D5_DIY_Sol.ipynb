{
 "cells": [
  {
   "cell_type": "markdown",
   "id": "6a542c96-f450-463c-aa8e-4398741e6840",
   "metadata": {},
   "source": [
    "# Day - 5 DIY"
   ]
  },
  {
   "cell_type": "markdown",
   "id": "da68d815-d780-4462-93be-a154d1decd48",
   "metadata": {},
   "source": [
    "## Q1. Problem Statement:"
   ]
  },
  {
   "cell_type": "markdown",
   "id": "3d84342b-294f-40bb-9849-4ddc3e57faa5",
   "metadata": {},
   "source": [
    "## Math Quiz"
   ]
  },
  {
   "cell_type": "markdown",
   "id": "973e9d41-631f-4468-8574-befb7a467d58",
   "metadata": {},
   "source": [
    "Write a Python programto create a math quiz that generates math questions using  random  numbers  and  operators  and  asks  the  user  to  enter  the  correct answer; evaluate the answer entered by the user and print a message whether the answer is correct or incorrect"
   ]
  },
  {
   "cell_type": "code",
   "execution_count": 41,
   "id": "100a631a-fae3-462c-a28e-a6ac5674d4cb",
   "metadata": {},
   "outputs": [
    {
     "name": "stdin",
     "output_type": "stream",
     "text": [
      "What is your Name? sravya\n"
     ]
    },
    {
     "name": "stdout",
     "output_type": "stream",
     "text": [
      "Alright sravya, Welcome to your math quiz!\n",
      "Your question is: 7 - 3\n"
     ]
    },
    {
     "name": "stdin",
     "output_type": "stream",
     "text": [
      "What is your answer? 4\n"
     ]
    },
    {
     "name": "stdout",
     "output_type": "stream",
     "text": [
      "correct!\n",
      " Your score 1/1!\n"
     ]
    }
   ],
   "source": [
    "# import random\n",
    "\n",
    "def generate_question():\n",
    "    \"\"\"Generates a random math question with addition,subtraction, or multiplication.\"\"\"\n",
    "    num1 = random.randint(1, 10)\n",
    "    num2 = random.randint(1, 10)\n",
    "    operator = random.choice(['+','-','*'])\n",
    "    question = f\"{num1} {operator} {num2}\"\n",
    "    return question\n",
    "def evaluate_answer(question, user_answer):\n",
    "    \"\"\"evaluate the user's answer against the correct answer.\"\"\"\n",
    "    correct_answer= eval(question)\n",
    "    if user_answer == correct_answer:\n",
    "      return True\n",
    "    else:\n",
    "     return False\n",
    "\n",
    "def main():\n",
    "    \"\"\"main function to run the math quiz.\"\"\"\n",
    "    name = input(\"What is your Name?\")\n",
    "    print(f\"Alright {name}, Welcome to your math quiz!\")\n",
    "    score = 0\n",
    "    num_question = 1\n",
    "    for i in range(num_question):\n",
    "        question = generate_question()\n",
    "        print(f\"Your question is: {question}\")\n",
    "        user_answer = int(input(\"What is your answer?\"))\n",
    "        if evaluate_answer(question,user_answer):\n",
    "            print(\"correct!\")\n",
    "            score+=1\n",
    "        else:\n",
    "            print(f\"Incorrect. The correct answer is {eval(question)}.\")\n",
    "        print(f\" Your score {score}/{num_question}!\")\n",
    "main()\n",
    "    "
   ]
  },
  {
   "cell_type": "markdown",
   "id": "4697e0f9-6454-4471-98c5-1900cb12cf35",
   "metadata": {},
   "source": [
    "## Q2. Problem Statement:"
   ]
  },
  {
   "cell_type": "markdown",
   "id": "c0ba9744-243b-40d1-a5cd-db9995ef617a",
   "metadata": {},
   "source": [
    "# Understanding Classes and Objects"
   ]
  },
  {
   "cell_type": "markdown",
   "id": "0560f8a1-5ce7-4238-82c7-37b057eadbbb",
   "metadata": {},
   "source": [
    "Write a Python program to create a Bus object that will inherit all the variables and methods of the parent Vehicle class and display it."
   ]
  },
  {
   "cell_type": "code",
   "execution_count": 49,
   "id": "fbc95d26-0f82-4fae-af0c-72c6c218bd4d",
   "metadata": {},
   "outputs": [
    {
     "name": "stdout",
     "output_type": "stream",
     "text": [
      "Vehicle name: Volvo Bus speed: 220  Mileage: 14\n"
     ]
    }
   ],
   "source": [
    "class vehicle:\n",
    "\n",
    "    def __init__(self,name,max_speed,mileage):\n",
    "       self.name = name\n",
    "       self.max_speed = max_speed\n",
    "       self.mileage = mileage\n",
    "    \n",
    "class Bus(vehicle):\n",
    "        pass\n",
    "\n",
    "bus = Bus(\"Volvo Bus\", 220, 14)\n",
    "print(\"Vehicle name:\", bus.name, \"speed:\", bus.max_speed, \" Mileage:\", bus.mileage)\n",
    "\n",
    "        "
   ]
  },
  {
   "cell_type": "code",
   "execution_count": null,
   "id": "63989766-aaf8-409f-b230-169854a1ca64",
   "metadata": {},
   "outputs": [],
   "source": []
  }
 ],
 "metadata": {
  "kernelspec": {
   "display_name": "Python 3 (ipykernel)",
   "language": "python",
   "name": "python3"
  },
  "language_info": {
   "codemirror_mode": {
    "name": "ipython",
    "version": 3
   },
   "file_extension": ".py",
   "mimetype": "text/x-python",
   "name": "python",
   "nbconvert_exporter": "python",
   "pygments_lexer": "ipython3",
   "version": "3.12.6"
  }
 },
 "nbformat": 4,
 "nbformat_minor": 5
}
