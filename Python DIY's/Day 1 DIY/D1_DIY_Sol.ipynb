{
 "cells": [
  {
   "cell_type": "markdown",
   "id": "9d21dba1-d2e1-4a3f-af7f-8c65ec2c8396",
   "metadata": {},
   "source": [
    "## Day - 1 DIY"
   ]
  },
  {
   "cell_type": "markdown",
   "id": "6abd6cb8-48d0-4706-a693-fb5acb044f5e",
   "metadata": {},
   "source": [
    "## Q1. Problem Statement: "
   ]
  },
  {
   "cell_type": "markdown",
   "id": "b340467c-af90-4112-b96e-676d2f8171a4",
   "metadata": {},
   "source": [
    " Hello World Write a Python program to print “Hello World!”."
   ]
  },
  {
   "cell_type": "code",
   "execution_count": 1,
   "id": "e66664e2-1d7b-4ede-bc2f-916b0aae9f16",
   "metadata": {},
   "outputs": [
    {
     "name": "stdout",
     "output_type": "stream",
     "text": [
      "Hello World!\n"
     ]
    }
   ],
   "source": [
    "print(\"Hello World!\")"
   ]
  },
  {
   "cell_type": "markdown",
   "id": "028f4110-4b72-4d53-b72c-1145e796f05f",
   "metadata": {},
   "source": [
    "## Q2. Problem Statement:"
   ]
  },
  {
   "cell_type": "markdown",
   "id": "c44822f0-075e-4069-894d-6c9e40dead21",
   "metadata": {},
   "source": [
    "Q2. Problem Statement: Understanding VariablesWrite a Python program to create two variables, assign integer values to them and add them using the “+” operator to store the result in another variable and print it."
   ]
  },
  {
   "cell_type": "code",
   "execution_count": 2,
   "id": "9f53a66b-5c2e-4dac-9785-d67e7fc2a267",
   "metadata": {},
   "outputs": [
    {
     "name": "stdout",
     "output_type": "stream",
     "text": [
      "Result of addition is: 30\n"
     ]
    }
   ],
   "source": [
    "A = 10\n",
    "B = 20\n",
    "result = A + B\n",
    "print(\"Result of addition is:\", result)"
   ]
  },
  {
   "cell_type": "code",
   "execution_count": 5,
   "id": "cb31910b-cd21-4e45-a4b1-07ca808baee3",
   "metadata": {},
   "outputs": [
    {
     "name": "stdout",
     "output_type": "stream",
     "text": [
      "edureka! 10\n"
     ]
    }
   ],
   "source": [
    "A = \"edureka! \"\n",
    "B = \"10\"\n",
    "result = A + B\n",
    "print(result)"
   ]
  },
  {
   "cell_type": "code",
   "execution_count": null,
   "id": "fc1d2f26-3b4f-4d61-8800-7f7b39cf50d4",
   "metadata": {},
   "outputs": [],
   "source": []
  }
 ],
 "metadata": {
  "kernelspec": {
   "display_name": "Python 3 (ipykernel)",
   "language": "python",
   "name": "python3"
  },
  "language_info": {
   "codemirror_mode": {
    "name": "ipython",
    "version": 3
   },
   "file_extension": ".py",
   "mimetype": "text/x-python",
   "name": "python",
   "nbconvert_exporter": "python",
   "pygments_lexer": "ipython3",
   "version": "3.12.6"
  }
 },
 "nbformat": 4,
 "nbformat_minor": 5
}
