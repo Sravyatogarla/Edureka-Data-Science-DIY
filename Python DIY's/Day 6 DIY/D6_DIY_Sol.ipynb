{
 "cells": [
  {
   "cell_type": "code",
   "execution_count": 1,
   "id": "786a723c-b84e-4ab8-a379-77013f3a3f34",
   "metadata": {},
   "outputs": [
    {
     "name": "stdout",
     "output_type": "stream",
     "text": [
      "[ 1  3  5  7  9 11 13 15 17 19 21 23 25 27 29]\n",
      "<class 'numpy.ndarray'>\n"
     ]
    }
   ],
   "source": [
    "import numpy as np\n",
    "arr = np.arange(1, 31, 2)\n",
    "print(arr)\n",
    "print(type(arr))"
   ]
  },
  {
   "cell_type": "code",
   "execution_count": 8,
   "id": "1c0b665b-5f7d-4309-add4-3b6ae1bde034",
   "metadata": {},
   "outputs": [
    {
     "name": "stdout",
     "output_type": "stream",
     "text": [
      "Size of each element of list in bytes:  48\n",
      "Size of the whole list in bytes:  480\n",
      "Size of each element of the array in bytes:  8\n",
      "Size of the whole array in bytes:  80\n",
      "Size of each element of the array in bytes:  8\n",
      "Size of the whole array in bytes:  80\n",
      "Size of each element of the array in bytes:  8\n",
      "Size of the whole array in bytes:  80\n"
     ]
    }
   ],
   "source": [
    "#importing modules \n",
    "import numpy as np\n",
    "import sys \n",
    "    \n",
    "# declaring a list of 10elements  \n",
    "List = range(10) \n",
    "    \n",
    "# printing size of each element of the list \n",
    "print(\"Size of each element of\"\\\n",
    "\" list in bytes: \", sys.getsizeof(List)) \n",
    "    \n",
    "# printing size of the whole list \n",
    "print(\"Size of the whole list in\"\\\n",
    "\" bytes: \", sys.getsizeof(List)*len(List)) \n",
    "    \n",
    "# declaring an array of 10 elements  \n",
    "array_size = 10\n",
    "\n",
    "one_dimensional_array  = np.random.rand(array_size)\n",
    "two_dimensional_array  = np.random.rand(array_size, 2)\n",
    "three_dimensional_array = np.random.rand(array_size, 3)\n",
    "    \n",
    "# printing size of each element of the 1-D Numpy array \n",
    "print(\"Size of each element of \"\\\n",
    "\"the array in bytes: \", one_dimensional_array.itemsize) \n",
    "    \n",
    "# printing size of the whole 1-D Numpy array \n",
    "print(\"Size of the whole array\"\\\n",
    "\" in bytes: \", len(one_dimensional_array)*one_dimensional_array.itemsize) \n",
    "\n",
    "# printing size of each element of the 2-D Numpy array \n",
    "print(\"Size of each element of \"\\\n",
    "\"the array in bytes: \", two_dimensional_array.itemsize) \n",
    "    \n",
    "# printing size of the whole 2-D Numpy array \n",
    "print(\"Size of the whole array\"\\\n",
    "\" in bytes: \", len(two_dimensional_array)*two_dimensional_array.itemsize) \n",
    "\n",
    "# printing size of each element of the 3-D Numpy array \n",
    "print(\"Size of each element of \"\\\n",
    "\"the array in bytes: \", three_dimensional_array.itemsize) \n",
    "    \n",
    "# printing size of the whole 3-D Numpy array \n",
    "print(\"Size of the whole array\"\\\n",
    "\" in bytes: \", len(three_dimensional_array)*three_dimensional_array.itemsize) \n",
    "\n"
   ]
  },
  {
   "cell_type": "code",
   "execution_count": null,
   "id": "c310e002-b932-4e60-8fed-40029b579887",
   "metadata": {},
   "outputs": [],
   "source": []
  }
 ],
 "metadata": {
  "kernelspec": {
   "display_name": "Python 3 (ipykernel)",
   "language": "python",
   "name": "python3"
  },
  "language_info": {
   "codemirror_mode": {
    "name": "ipython",
    "version": 3
   },
   "file_extension": ".py",
   "mimetype": "text/x-python",
   "name": "python",
   "nbconvert_exporter": "python",
   "pygments_lexer": "ipython3",
   "version": "3.12.6"
  }
 },
 "nbformat": 4,
 "nbformat_minor": 5
}
