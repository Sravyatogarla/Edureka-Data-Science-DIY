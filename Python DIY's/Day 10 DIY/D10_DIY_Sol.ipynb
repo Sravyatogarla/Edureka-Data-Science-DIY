{
 "cells": [
  {
   "cell_type": "markdown",
   "id": "245c395b-f8a9-48c3-9ad2-6b5e8bf1b18a",
   "metadata": {},
   "source": [
    "# Day - 10 DIY"
   ]
  },
  {
   "cell_type": "markdown",
   "id": "32e3e7c6-7e9a-4845-b948-4f1355ee0634",
   "metadata": {},
   "source": [
    "**Q1. Problem Statement: Creating Pandas Series**\n",
    "\n",
    "Write a Python program to create two lists -one for countries and another for country codes. Create a pandas series from these two lists with the codes as the index. Print the length, shape, and size of the series too."
   ]
  },
  {
   "cell_type": "code",
   "execution_count": 5,
   "id": "3feb6778-f345-4a40-b86a-a8cf569245d6",
   "metadata": {},
   "outputs": [
    {
     "name": "stdout",
     "output_type": "stream",
     "text": [
      "The series is:\n",
      "IND        India\n",
      "CAN       Canada\n",
      "AUS    Australia\n",
      "JAP        Japan\n",
      "GER      Germany\n",
      "FRA       France\n",
      "dtype: object\n",
      "Length of the series is: 6\n",
      "Shape of the series is: (6,)\n",
      "Size of the series is: 6\n"
     ]
    }
   ],
   "source": [
    "import pandas as pd\n",
    "#creating two lists\n",
    "countries = [\"India\",\"Canada\",\"Australia\",\"Japan\",\"Germany\",\"France\"]\n",
    "country_codes = [\"IND\",\"CAN\",\"AUS\",\"JAP\",\"GER\",\"FRA\"]\n",
    "\n",
    "#creating the pandas series with country codes as index\n",
    "series= pd.Series(countries, index=country_codes)\n",
    "\n",
    "#print the series\n",
    "print(\"The series is:\")\n",
    "print(series)\n",
    "\n",
    "print(\"Length of the series is:\", len(series))\n",
    "print(\"Shape of the series is:\",series.shape)\n",
    "print(\"Size of the series is:\", series.size)"
   ]
  },
  {
   "cell_type": "markdown",
   "id": "e4ca33d6-a288-4c48-b31a-d68221bcadec",
   "metadata": {},
   "source": [
    "**Q2. Problem Statement:Creating Pandas DataFrame**\n",
    "\n",
    "Write a Python program that reads Name, Age, and Roll no. as input from the user and stores it into a DataFrame,and printsthe DataFrame you have created"
   ]
  },
  {
   "cell_type": "code",
   "execution_count": 9,
   "id": "e14e0a44-0fed-4421-800d-655b131ed978",
   "metadata": {},
   "outputs": [
    {
     "name": "stdin",
     "output_type": "stream",
     "text": [
      "Enter the number of student records you want to store: 2\n",
      "Enter the Name of the student: shubam\n",
      "Enter the Age of the student in years: 9\n",
      "Enter the Roll no. of the student: 56\n",
      "Enter the Name of the student: harshith\n",
      "Enter the Age of the student in years: 8\n",
      "Enter the Roll no. of the student: 34\n"
     ]
    },
    {
     "name": "stdout",
     "output_type": "stream",
     "text": [
      " The DataFrame is:\n",
      "       Name  Age  Roll No\n",
      "0    shubam    9       56\n",
      "1  harshith    8       34\n"
     ]
    }
   ],
   "source": [
    "import pandas as pd\n",
    "num_records = int(input(\"Enter the number of student records you want to store:\"))\n",
    "\n",
    "names = []\n",
    "ages = []\n",
    "roll_nos = []\n",
    "\n",
    "for i in range(num_records):\n",
    "    name = input(\"Enter the Name of the student:\")\n",
    "    age = int(input(\"Enter the Age of the student in years:\"))\n",
    "    roll_no = int(input(\"Enter the Roll no. of the student:\"))\n",
    "\n",
    "    names.append(name)\n",
    "    ages.append(age)\n",
    "    roll_nos.append(roll_no)\n",
    "\n",
    "data ={'Name' : names, 'Age':ages, 'Roll No': roll_nos}\n",
    "df = pd.DataFrame(data)\n",
    "\n",
    "print(\" The DataFrame is:\")\n",
    "print(df)\n",
    "\n",
    "                  "
   ]
  },
  {
   "cell_type": "code",
   "execution_count": null,
   "id": "b1fed887-f327-45fd-9e31-c44a1b98bb43",
   "metadata": {},
   "outputs": [],
   "source": []
  }
 ],
 "metadata": {
  "kernelspec": {
   "display_name": "Python 3 (ipykernel)",
   "language": "python",
   "name": "python3"
  },
  "language_info": {
   "codemirror_mode": {
    "name": "ipython",
    "version": 3
   },
   "file_extension": ".py",
   "mimetype": "text/x-python",
   "name": "python",
   "nbconvert_exporter": "python",
   "pygments_lexer": "ipython3",
   "version": "3.12.6"
  }
 },
 "nbformat": 4,
 "nbformat_minor": 5
}
