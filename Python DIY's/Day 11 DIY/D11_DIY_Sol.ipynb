{
 "cells": [
  {
   "cell_type": "markdown",
   "id": "05608ab4-5906-473e-b551-0df85e212a7d",
   "metadata": {},
   "source": [
    "# Day - 11 DIY"
   ]
  },
  {
   "cell_type": "markdown",
   "id": "69302f65-fa0e-4d0a-97b0-a37b9f989dc2",
   "metadata": {},
   "source": [
    "**Q1. Problem Statement: Working with DataFrames -I**\n",
    "\n",
    "Write a Python program that reads the “iris.csv”dataset (Available on LMS) into a DataFrame, and filtersthe rows on the condition that “sepal length”should be more  than  or  equal  to  6cm.  Write  the  filtered  rows  in  a  new  DataFrame,  and save the new DataFrame as a CSV file"
   ]
  },
  {
   "cell_type": "code",
   "execution_count": 1,
   "id": "15ea38b7-81e8-4785-86a5-7b3b40effd96",
   "metadata": {},
   "outputs": [
    {
     "name": "stdout",
     "output_type": "stream",
     "text": [
      "      Id  SepalLengthCm  SepalWidthCm  PetalLengthCm  PetalWidthCm  \\\n",
      "0      1            5.1           3.5            1.4           0.2   \n",
      "1      2            4.9           3.0            1.4           0.2   \n",
      "2      3            4.7           3.2            1.3           0.2   \n",
      "3      4            4.6           3.1            1.5           0.2   \n",
      "4      5            5.0           3.6            1.4           0.2   \n",
      "..   ...            ...           ...            ...           ...   \n",
      "145  146            6.7           3.0            5.2           2.3   \n",
      "146  147            6.3           2.5            5.0           1.9   \n",
      "147  148            6.5           3.0            5.2           2.0   \n",
      "148  149            6.2           3.4            5.4           2.3   \n",
      "149  150            5.9           3.0            5.1           1.8   \n",
      "\n",
      "            Species  \n",
      "0       Iris-setosa  \n",
      "1       Iris-setosa  \n",
      "2       Iris-setosa  \n",
      "3       Iris-setosa  \n",
      "4       Iris-setosa  \n",
      "..              ...  \n",
      "145  Iris-virginica  \n",
      "146  Iris-virginica  \n",
      "147  Iris-virginica  \n",
      "148  Iris-virginica  \n",
      "149  Iris-virginica  \n",
      "\n",
      "[150 rows x 6 columns]\n"
     ]
    }
   ],
   "source": [
    "#read the iris.csv file into DataFrame\n",
    "import pandas as pd\n",
    "df = pd.read_csv(\"iris.csv\")\n",
    "print(df)\n",
    "\n"
   ]
  },
  {
   "cell_type": "code",
   "execution_count": 3,
   "id": "d0e2b9d8-a6a4-4cc7-93e5-8a739b06e36c",
   "metadata": {},
   "outputs": [
    {
     "name": "stdout",
     "output_type": "stream",
     "text": [
      "      Id  SepalLengthCm  SepalWidthCm  PetalLengthCm  PetalWidthCm  \\\n",
      "50    51            7.0           3.2            4.7           1.4   \n",
      "51    52            6.4           3.2            4.5           1.5   \n",
      "52    53            6.9           3.1            4.9           1.5   \n",
      "54    55            6.5           2.8            4.6           1.5   \n",
      "56    57            6.3           3.3            4.7           1.6   \n",
      "..   ...            ...           ...            ...           ...   \n",
      "144  145            6.7           3.3            5.7           2.5   \n",
      "145  146            6.7           3.0            5.2           2.3   \n",
      "146  147            6.3           2.5            5.0           1.9   \n",
      "147  148            6.5           3.0            5.2           2.0   \n",
      "148  149            6.2           3.4            5.4           2.3   \n",
      "\n",
      "             Species  \n",
      "50   Iris-versicolor  \n",
      "51   Iris-versicolor  \n",
      "52   Iris-versicolor  \n",
      "54   Iris-versicolor  \n",
      "56   Iris-versicolor  \n",
      "..               ...  \n",
      "144   Iris-virginica  \n",
      "145   Iris-virginica  \n",
      "146   Iris-virginica  \n",
      "147   Iris-virginica  \n",
      "148   Iris-virginica  \n",
      "\n",
      "[67 rows x 6 columns]\n"
     ]
    }
   ],
   "source": [
    "#filtering the rows of sepal length that are greater than 6cm\n",
    "filtered_df = df[df[\"SepalLengthCm\"] >=6]\n",
    "print(filtered_df)"
   ]
  },
  {
   "cell_type": "code",
   "execution_count": 13,
   "id": "5924a960-cb52-4d23-b11f-547d403410fe",
   "metadata": {},
   "outputs": [],
   "source": [
    "#save the filtered DataFrame to a new csv file\n",
    "filtered_df=df[df[\"SepalLengthCm\"] >=6]\n",
    "filtered_df.to_csv(\"filtered_iris.csv\", index=False)"
   ]
  },
  {
   "cell_type": "code",
   "execution_count": null,
   "id": "df6ef077-6b15-4465-bcbc-8d7f1d92910c",
   "metadata": {},
   "outputs": [],
   "source": []
  }
 ],
 "metadata": {
  "kernelspec": {
   "display_name": "Python 3 (ipykernel)",
   "language": "python",
   "name": "python3"
  },
  "language_info": {
   "codemirror_mode": {
    "name": "ipython",
    "version": 3
   },
   "file_extension": ".py",
   "mimetype": "text/x-python",
   "name": "python",
   "nbconvert_exporter": "python",
   "pygments_lexer": "ipython3",
   "version": "3.12.6"
  }
 },
 "nbformat": 4,
 "nbformat_minor": 5
}
