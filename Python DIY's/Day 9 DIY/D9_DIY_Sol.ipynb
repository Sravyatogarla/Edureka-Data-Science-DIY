{
 "cells": [
  {
   "cell_type": "markdown",
   "id": "287fe89a-8aa2-4f84-ad14-ff9eb06db6f4",
   "metadata": {},
   "source": [
    "# Day - 9 DIY"
   ]
  },
  {
   "cell_type": "markdown",
   "id": "ac6e9540-1013-43af-983e-95c8a1da13a5",
   "metadata": {},
   "source": [
    "**Q1. Problem Statement: Understanding File Operations**\n",
    "\n",
    "Write a Python program that reads text from a poem.txtfile (Provided on the LMS) in read-only mode and prints it line-by-line."
   ]
  },
  {
   "cell_type": "code",
   "execution_count": 23,
   "id": "0f19c35b-291f-478e-8f7f-365fb954587a",
   "metadata": {},
   "outputs": [
    {
     "name": "stdout",
     "output_type": "stream",
     "text": [
      "Jack and Jill went up the hill\n",
      "To fetch a pail of water.\n",
      "Jack fell down and broke his crown,\n",
      "And Jill came tumbling after.\n",
      "Then up got Jack and said to Jill,\n",
      "As in his arms he took her,\n",
      "â€œBrush off that dirt for youâ€™re not hurt,\n",
      "Letâ€™s fetch that pail of water.â€\n",
      "So Jack and Jill went up the hill\n",
      "To fetch the pail of water,\n",
      "And took it home to Mother dear,\n",
      "Who thanked her son and daughter.\n",
      "\n",
      "\n"
     ]
    }
   ],
   "source": [
    "#open the film in read-only mode \n",
    "file = open(\"Poem.txt\", \"r\", errors=\"ignore\")\n",
    "x = file.read()\n",
    "print(x)\n",
    "file.close()"
   ]
  },
  {
   "cell_type": "markdown",
   "id": "860ac90f-29d6-4776-8b68-9bd1645e2fec",
   "metadata": {},
   "source": [
    "**Q2. Problem Statement:Modifying Text File using Python**\n",
    "\n",
    "Write  a  Python  program  that  opens  the poem.txtfile  (Provided  on  the  LMS). Replace all the words in the poem, starting from “J” to “K,” and print the new version of the poem."
   ]
  },
  {
   "cell_type": "code",
   "execution_count": 37,
   "id": "af583bd0-9766-4119-9559-e07847459323",
   "metadata": {},
   "outputs": [
    {
     "name": "stdout",
     "output_type": "stream",
     "text": [
      "Kack and Kill went up the hill\n",
      "To fetch a pail of water.\n",
      "Kack fell down and broke his crown,\n",
      "And Kill came tumbling after.\n",
      "Then up got Kack and said to Kill,\n",
      "As in his arms he took her,\n",
      "â€œBrush off that dirt for youâ€™re not hurt,\n",
      "Letâ€™s fetch that pail of water.â€\n",
      "So Kack and Kill went up the hill\n",
      "To fetch the pail of water,\n",
      "And took it home to Mother dear,\n",
      "Who thanked her son and daughter.\n",
      "\n"
     ]
    }
   ],
   "source": [
    "file = open(\"Poem.txt\", \"r\", errors=\"ignore\")\n",
    "data = file.read()\n",
    "for letter in data:\n",
    "    if letter == 'J':\n",
    "        print('K', end=\"\")\n",
    "    else:\n",
    "        print(letter, end=\"\")\n",
    "file.close()"
   ]
  },
  {
   "cell_type": "code",
   "execution_count": null,
   "id": "b339422e-4a50-481d-825c-8db36ae6e6ce",
   "metadata": {},
   "outputs": [],
   "source": []
  }
 ],
 "metadata": {
  "kernelspec": {
   "display_name": "Python 3 (ipykernel)",
   "language": "python",
   "name": "python3"
  },
  "language_info": {
   "codemirror_mode": {
    "name": "ipython",
    "version": 3
   },
   "file_extension": ".py",
   "mimetype": "text/x-python",
   "name": "python",
   "nbconvert_exporter": "python",
   "pygments_lexer": "ipython3",
   "version": "3.12.6"
  }
 },
 "nbformat": 4,
 "nbformat_minor": 5
}
