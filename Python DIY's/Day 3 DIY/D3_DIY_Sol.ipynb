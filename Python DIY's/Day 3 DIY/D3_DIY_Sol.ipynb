{
 "cells": [
  {
   "cell_type": "markdown",
   "id": "6e58083b-079c-4c18-9d0f-82b6b552ba0a",
   "metadata": {},
   "source": [
    "# Day - 3 DIY"
   ]
  },
  {
   "cell_type": "markdown",
   "id": "a0df9268-420a-408e-9743-c69617120968",
   "metadata": {},
   "source": [
    "## Q1. Problem Statement:"
   ]
  },
  {
   "cell_type": "markdown",
   "id": "594c2c66-655a-472e-9d30-0bdc37659149",
   "metadata": {},
   "source": [
    "Vowel or a ConsonantWrite a Python program that takes a character as input from the user and prints whether the character entered by the user is a vowel or a consonant"
   ]
  },
  {
   "cell_type": "code",
   "execution_count": 3,
   "id": "e5f7c859-b0d1-449b-becb-b1d3d4373a68",
   "metadata": {},
   "outputs": [
    {
     "name": "stdin",
     "output_type": "stream",
     "text": [
      " Hello User, Please Enter a Character:  A\n"
     ]
    },
    {
     "name": "stdout",
     "output_type": "stream",
     "text": [
      "a is a Vowel\n"
     ]
    }
   ],
   "source": [
    "#the user to enter a character\n",
    "character = input(\" Hello User, Please Enter a Character: \")\n",
    "#check the character to lowercase for case-sensitive comparison\n",
    "character = character.lower()\n",
    "#check if the character is a vowel\n",
    "if character in \"aeiou\":\n",
    "    print(character, \"is a Vowel\")\n",
    "else:\n",
    "    print(character, \"is a Consonent\")"
   ]
  },
  {
   "cell_type": "markdown",
   "id": "8b486815-34cb-4ac4-92fb-09909b512868",
   "metadata": {},
   "source": [
    "## Q2. Problem Statement:"
   ]
  },
  {
   "cell_type": "markdown",
   "id": "57b28979-85ba-4802-a4b9-4808e4c4ca1e",
   "metadata": {},
   "source": [
    "Multiplication TableWrite a Python program that takes an integer as input and prints a multiplication table from 1 to 10."
   ]
  },
  {
   "cell_type": "code",
   "execution_count": 10,
   "id": "7941a06e-282f-4719-9d0f-98f371818424",
   "metadata": {},
   "outputs": [
    {
     "name": "stdin",
     "output_type": "stream",
     "text": [
      "Please Enter a Number: 8\n"
     ]
    },
    {
     "name": "stdout",
     "output_type": "stream",
     "text": [
      "The Multiplication Table (from 1 to 10) of 8 is\n",
      "8 X 1 = 8\n",
      "8 X 2 = 16\n",
      "8 X 3 = 24\n",
      "8 X 4 = 32\n",
      "8 X 5 = 40\n",
      "8 X 6 = 48\n",
      "8 X 7 = 56\n",
      "8 X 8 = 64\n",
      "8 X 9 = 72\n",
      "8 X 10 = 80\n"
     ]
    }
   ],
   "source": [
    "#the user to enter a number\n",
    "number = int(input(\"Please Enter a Number:\"))\n",
    "#print the multiplication table from 1 to 10\n",
    "print(\"The Multiplication Table (from 1 to 10) of\", number, \"is\" )\n",
    "for i in range(1, 11):\n",
    "     print(number, \"X\", i, \"=\",number*i)"
   ]
  },
  {
   "cell_type": "code",
   "execution_count": null,
   "id": "75ff8535-b985-41d4-ac4f-8d0e6adfd503",
   "metadata": {},
   "outputs": [],
   "source": []
  }
 ],
 "metadata": {
  "kernelspec": {
   "display_name": "Python 3 (ipykernel)",
   "language": "python",
   "name": "python3"
  },
  "language_info": {
   "codemirror_mode": {
    "name": "ipython",
    "version": 3
   },
   "file_extension": ".py",
   "mimetype": "text/x-python",
   "name": "python",
   "nbconvert_exporter": "python",
   "pygments_lexer": "ipython3",
   "version": "3.12.6"
  }
 },
 "nbformat": 4,
 "nbformat_minor": 5
}
