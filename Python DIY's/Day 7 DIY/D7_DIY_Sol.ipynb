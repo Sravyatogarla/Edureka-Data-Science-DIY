{
 "cells": [
  {
   "cell_type": "markdown",
   "id": "8f719487-53d8-4a2e-b2a0-95f3bc010e51",
   "metadata": {},
   "source": [
    "# Day - 7 DIY"
   ]
  },
  {
   "cell_type": "markdown",
   "id": "8cd9c632-5607-4ba0-8d5f-136750912ce5",
   "metadata": {},
   "source": [
    "**Q1. Problem Statement:Understanding Array Functions**\n",
    "\n",
    "Write  a  Python  program  that  takes  the  speeds  of  any  vehicle  to  store  it  in  a NumPy array and calculates the average speed.Note:Use NumPy functions to get the desired output."
   ]
  },
  {
   "cell_type": "code",
   "execution_count": 9,
   "id": "c9e05bf8-792f-48c7-aeda-63a1db47cce0",
   "metadata": {},
   "outputs": [
    {
     "name": "stdin",
     "output_type": "stream",
     "text": [
      "What number of speeds you want enter? 5\n",
      "Enter the speed in km/hr : 92\n",
      "Enter the speed in km/hr : 76\n",
      "Enter the speed in km/hr : 83\n",
      "Enter the speed in km/hr : 78\n",
      "Enter the speed in km/hr : 84\n"
     ]
    },
    {
     "name": "stdout",
     "output_type": "stream",
     "text": [
      "the average speed is : 82.6 km/hr\n"
     ]
    }
   ],
   "source": [
    "#### get the number of speeds from the user \n",
    "num_speeds = int(input(\"What number of speeds you want enter?\"))\n",
    "#create a empty ar\n",
    "import numpy as np\n",
    "speeds = np.array([])\n",
    "#get the speeds from user and append them to the array\n",
    "for i in range(num_speeds):\n",
    "    speed = int(input(f\"Enter the speed in km/hr :\"))\n",
    "    speeds = np.append(speeds, speed)\n",
    "\n",
    "#calculate the average speed using numpy's mean function\n",
    "average_speed = np.mean(speeds)\n",
    "#print the average speed\n",
    "print(\"the average speed is :\", average_speed, \"km/hr\")\n",
    "                "
   ]
  },
  {
   "cell_type": "markdown",
   "id": "532ad41a-143e-428b-a2f9-f5a18cb89aec",
   "metadata": {},
   "source": [
    "**Q2. Problem Statement: Array Indexing/Slicing**\n",
    "\n",
    "Write a Python program to generate a 3-D array with integers of your choice, perform indexing, and print the first two rows and last two columns of the array.Note: UseNumPyarange()functiontogeneratearandomarray."
   ]
  },
  {
   "cell_type": "code",
   "execution_count": 20,
   "id": "a37735af-cc7d-4754-b87b-714d85f2b245",
   "metadata": {},
   "outputs": [
    {
     "name": "stdout",
     "output_type": "stream",
     "text": [
      "The array is :\n",
      "[[ 0  1  2  3]\n",
      " [ 4  5  6  7]\n",
      " [ 8  9 10 11]\n",
      " [12 13 14 15]\n",
      " [16 17 18 19]]\n",
      "first_two_rows are : [[0 1 2 3]\n",
      " [4 5 6 7]]\n",
      "last_two_coloumbs are : [[ 2  3]\n",
      " [ 6  7]\n",
      " [10 11]\n",
      " [14 15]\n",
      " [18 19]]\n"
     ]
    }
   ],
   "source": [
    "import numpy as np \n",
    "#generate a 3D array with random integers using np.arange()\n",
    "array = np.arange(20).reshape(5,4)\n",
    "#print the original array\n",
    "print(\"The array is :\")\n",
    "print(array)\n",
    "#print the first two rows\n",
    "first_two_rows = array[:2, : ,]\n",
    "last_two_coloumbs = array[0: ,2:4]\n",
    "print(\"first_two_rows are :\", first_two_rows)\n",
    "print(\"last_two_coloumbs are :\", last_two_coloumbs)"
   ]
  },
  {
   "cell_type": "code",
   "execution_count": null,
   "id": "a9bbfcd0-4aa1-4d82-8807-6d030c4ef527",
   "metadata": {},
   "outputs": [],
   "source": []
  }
 ],
 "metadata": {
  "kernelspec": {
   "display_name": "Python 3 (ipykernel)",
   "language": "python",
   "name": "python3"
  },
  "language_info": {
   "codemirror_mode": {
    "name": "ipython",
    "version": 3
   },
   "file_extension": ".py",
   "mimetype": "text/x-python",
   "name": "python",
   "nbconvert_exporter": "python",
   "pygments_lexer": "ipython3",
   "version": "3.12.6"
  }
 },
 "nbformat": 4,
 "nbformat_minor": 5
}
