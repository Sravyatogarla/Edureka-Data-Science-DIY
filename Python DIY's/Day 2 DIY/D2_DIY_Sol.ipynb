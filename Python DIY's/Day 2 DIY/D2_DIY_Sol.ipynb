{
 "cells": [
  {
   "cell_type": "markdown",
   "id": "3bb62e78-12c6-43d2-9348-1cb1deeee5c6",
   "metadata": {},
   "source": [
    "# Day - 2 DIY"
   ]
  },
  {
   "cell_type": "markdown",
   "id": "7e27a55b-6a8e-4749-aeae-ba8d105b12f2",
   "metadata": {},
   "source": [
    "## Q1. Problem Statement:"
   ]
  },
  {
   "cell_type": "markdown",
   "id": "0131cbeb-895c-498a-92ed-bbac07259949",
   "metadata": {},
   "source": [
    " The Percentage CalculatorWrite  a  Python  program  that  takes  marks  as  input  for  six  subjects, with maximum  marks   being  600, and prints  total  marks,  average  marks,  and percentagesobtained by a student."
   ]
  },
  {
   "cell_type": "code",
   "execution_count": 5,
   "id": "b2aa619a-2483-471d-b199-005eba3843d1",
   "metadata": {},
   "outputs": [
    {
     "name": "stdin",
     "output_type": "stream",
     "text": [
      "enter the marks out of 100 obtained in subject-1:  89\n",
      "enter the marks out of 100 obtained in subject-2:  78\n",
      "enter the marks out of 100 obtained in subject-3:  89\n",
      "enter the marks out of 100 obtained in subject-4:  99\n",
      "enter the marks out of 100 obtained in subject-5:  98\n",
      "enter the marks out of 100 obtained in subject-6:  87\n"
     ]
    },
    {
     "name": "stdout",
     "output_type": "stream",
     "text": [
      "total marks obtained: 540\n",
      "total average obtained: 90.0\n",
      "total percentage obtained: 90.0\n"
     ]
    }
   ],
   "source": [
    "\n",
    "# Get marks for six subjects\n",
    "\n",
    "Subject_1 = int(input(\"enter the marks out of 100 obtained in subject-1: \"))\n",
    "\n",
    "Subject_2 = int(input(\"enter the marks out of 100 obtained in subject-2: \"))\n",
    "\n",
    "Subject_3 = int(input(\"enter the marks out of 100 obtained in subject-3: \"))\n",
    "\n",
    "Subject_4 = int(input(\"enter the marks out of 100 obtained in subject-4: \"))\n",
    "\n",
    "Subject_5 = int(input(\"enter the marks out of 100 obtained in subject-5: \"))\n",
    "\n",
    "Subject_6 = int(input(\"enter the marks out of 100 obtained in subject-6: \"))\n",
    "\n",
    "#Calculate total marks obtained\n",
    "total_marks_obtained = Subject_1 + Subject_2 + Subject_3 + Subject_4 + Subject_5 + Subject_6\n",
    "\n",
    "#Calculate average marks obtained\n",
    "Average_marks_obtained = total_marks_obtained/ 6\n",
    "\n",
    "#Calculate percentage obtained\n",
    "total_percentage_obtained = (total_marks_obtained/600) * 100\n",
    "\n",
    "#print the results\n",
    "print(\"total marks obtained:\", total_marks_obtained)\n",
    "print(\"total average obtained:\", Average_marks_obtained)\n",
    "print(\"total percentage obtained:\", total_percentage_obtained)             \n",
    "                "
   ]
  },
  {
   "cell_type": "markdown",
   "id": "22eda901-c2b7-41c3-bd37-80625d16f2ec",
   "metadata": {},
   "source": [
    "## Q2. Problem Statement: "
   ]
  },
  {
   "cell_type": "markdown",
   "id": "3209cd0f-fcf4-4129-b5fa-c9a5fb5bd4a5",
   "metadata": {},
   "source": [
    " The Score CardDeclare  a  nested  list  with  Exam  scores  and  Student  names  as  shown  here -\"score=[[510, 'John'],[280, 'Lucy']......]\".Write a Python program to  sort  the  list  based  on  scores  and  print  the  students'  names  with  first  and second-highest scores"
   ]
  },
  {
   "cell_type": "code",
   "execution_count": 8,
   "id": "5ec8713c-21ee-4a96-bc36-e550439f60ef",
   "metadata": {},
   "outputs": [
    {
     "name": "stdout",
     "output_type": "stream",
     "text": [
      "[[558, 'vishal'], [225, 'Vinay'], [65, 'Harshit'], [64, 'Jay'], [55, 'Sachin']]\n",
      "students with highest markes is : vishal\n",
      "And the student with second highest marks is: Vinay\n"
     ]
    }
   ],
   "source": [
    "\n",
    "#score card\n",
    "#Given nested list of exam scores and student names\n",
    "Scores = [[558, 'vishal'], [225, 'Vinay'], [65, 'Harshit'], [64, 'Jay'], [55, 'Sachin']]\n",
    "    \n",
    "# Sort the list based on scores in descending order\n",
    "Scores.sort(reverse=True)\n",
    "\n",
    "#print the students names with first and second highest scores\n",
    "print(Scores)\n",
    "print(\"students with highest markes is :\", Scores[0][1])\n",
    "print(\"And the student with second highest marks is:\", Scores[1][1])\n",
    "    "
   ]
  },
  {
   "cell_type": "code",
   "execution_count": null,
   "id": "c3d9a47d-1b0b-4566-be32-2478fea7d096",
   "metadata": {},
   "outputs": [],
   "source": []
  },
  {
   "cell_type": "code",
   "execution_count": null,
   "id": "43601b91-1ec7-4032-9d80-e6d12f4f0b6d",
   "metadata": {},
   "outputs": [],
   "source": []
  }
 ],
 "metadata": {
  "kernelspec": {
   "display_name": "Python 3 (ipykernel)",
   "language": "python",
   "name": "python3"
  },
  "language_info": {
   "codemirror_mode": {
    "name": "ipython",
    "version": 3
   },
   "file_extension": ".py",
   "mimetype": "text/x-python",
   "name": "python",
   "nbconvert_exporter": "python",
   "pygments_lexer": "ipython3",
   "version": "3.12.6"
  }
 },
 "nbformat": 4,
 "nbformat_minor": 5
}
