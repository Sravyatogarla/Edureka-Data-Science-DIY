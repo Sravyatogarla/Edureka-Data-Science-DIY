{
 "cells": [
  {
   "cell_type": "markdown",
   "id": "3716bc32-7ae7-4efa-806b-1b2eb314106c",
   "metadata": {},
   "source": [
    "# Day - 20 DIY"
   ]
  },
  {
   "cell_type": "markdown",
   "id": "8d0aef2d-7acf-4293-a75d-b6b31f154267",
   "metadata": {},
   "source": [
    "**Q1. Problem Statement: Measures of Dispersion**\n",
    "\n",
    "Load the “HRdataset_v14.csv”dataset  into  a  DataFrame  and  group  the  data based on the “Department”column. From the grouped DataFrame and perform the following tasks:\n",
    "\n",
    "1.CalculatetheMean and Median, of the “Salary” column.\n",
    "\n",
    "2.Find out which Department has the highest number of employees\n",
    "\n",
    "3.Calculate the standard deviation and variance of the“Salary”column\n",
    "\n",
    "4.Find the interquartile range of the \"Salary\" column\n",
    "\n",
    "5.Find skewness and kurtosis of the original dataset\n",
    "\n",
    "6.Find the z-score of the \"Salary\" column\n",
    "\n",
    "7.Find the 30th percentile of the \"Salary\" column\n",
    "\n",
    "8.Find the Quartiles of the \"GenderID\" column (You can set quartile values of your choice)\n"
   ]
  },
  {
   "cell_type": "markdown",
   "id": "6e635d66-85a5-4601-aaa1-9725ef24b87e",
   "metadata": {},
   "source": [
    "# importing the HRdataset_v14.csv file"
   ]
  },
  {
   "cell_type": "code",
   "execution_count": 31,
   "id": "79b16b52-bf8b-4cd9-986c-704b6190723e",
   "metadata": {},
   "outputs": [
    {
     "name": "stdout",
     "output_type": "stream",
     "text": [
      "                Employee_Name  EmpID  MarriedID  MaritalStatusID  GenderID  \\\n",
      "0         Adinolfi, Wilson  K  10026          0                0         1   \n",
      "1    Ait Sidi, Karthikeyan     10084          1                1         1   \n",
      "2           Akinkuolie, Sarah  10196          1                1         0   \n",
      "3                Alagbe,Trina  10088          1                1         0   \n",
      "4            Anderson, Carol   10069          0                2         0   \n",
      "..                        ...    ...        ...              ...       ...   \n",
      "306            Woodson, Jason  10135          0                0         1   \n",
      "307        Ybarra, Catherine   10301          0                0         0   \n",
      "308          Zamora, Jennifer  10010          0                0         0   \n",
      "309               Zhou, Julia  10043          0                0         0   \n",
      "310             Zima, Colleen  10271          0                4         0   \n",
      "\n",
      "     EmpStatusID  DeptID  PerfScoreID  FromDiversityJobFairID  Salary  ...  \\\n",
      "0              1       5            4                       0   62506  ...   \n",
      "1              5       3            3                       0  104437  ...   \n",
      "2              5       5            3                       0   64955  ...   \n",
      "3              1       5            3                       0   64991  ...   \n",
      "4              5       5            3                       0   50825  ...   \n",
      "..           ...     ...          ...                     ...     ...  ...   \n",
      "306            1       5            3                       0   65893  ...   \n",
      "307            5       5            1                       0   48513  ...   \n",
      "308            1       3            4                       0  220450  ...   \n",
      "309            1       3            3                       0   89292  ...   \n",
      "310            1       5            3                       0   45046  ...   \n",
      "\n",
      "        ManagerName  ManagerID  RecruitmentSource PerformanceScore  \\\n",
      "0    Michael Albert       22.0           LinkedIn          Exceeds   \n",
      "1        Simon Roup        4.0             Indeed      Fully Meets   \n",
      "2    Kissy Sullivan       20.0           LinkedIn      Fully Meets   \n",
      "3      Elijiah Gray       16.0             Indeed      Fully Meets   \n",
      "4    Webster Butler       39.0      Google Search      Fully Meets   \n",
      "..              ...        ...                ...              ...   \n",
      "306  Kissy Sullivan       20.0           LinkedIn      Fully Meets   \n",
      "307  Brannon Miller       12.0      Google Search              PIP   \n",
      "308      Janet King        2.0  Employee Referral          Exceeds   \n",
      "309      Simon Roup        4.0  Employee Referral      Fully Meets   \n",
      "310   David Stanley       14.0           LinkedIn      Fully Meets   \n",
      "\n",
      "     EngagementSurvey EmpSatisfaction SpecialProjectsCount  \\\n",
      "0                4.60               5                    0   \n",
      "1                4.96               3                    6   \n",
      "2                3.02               3                    0   \n",
      "3                4.84               5                    0   \n",
      "4                5.00               4                    0   \n",
      "..                ...             ...                  ...   \n",
      "306              4.07               4                    0   \n",
      "307              3.20               2                    0   \n",
      "308              4.60               5                    6   \n",
      "309              5.00               3                    5   \n",
      "310              4.50               5                    0   \n",
      "\n",
      "    LastPerformanceReview_Date DaysLateLast30 Absences  \n",
      "0                    1/17/2019              0        1  \n",
      "1                    2/24/2016              0       17  \n",
      "2                    5/15/2012              0        3  \n",
      "3                     1/3/2019              0       15  \n",
      "4                     2/1/2016              0        2  \n",
      "..                         ...            ...      ...  \n",
      "306                  2/28/2019              0       13  \n",
      "307                   9/2/2015              5        4  \n",
      "308                  2/21/2019              0       16  \n",
      "309                   2/1/2019              0       11  \n",
      "310                  1/30/2019              0        2  \n",
      "\n",
      "[311 rows x 36 columns]\n",
      "<pandas.core.groupby.generic.DataFrameGroupBy object at 0x000002407729DD90>\n"
     ]
    }
   ],
   "source": [
    "import pandas as pd\n",
    "#Load the dataset\n",
    "df = pd.read_csv(\"HRdataset_v14.csv\")\n",
    "print(df)"
   ]
  },
  {
   "cell_type": "code",
   "execution_count": 4,
   "id": "48ade9f9-fb59-4bdb-8bba-964f4da651c0",
   "metadata": {},
   "outputs": [
    {
     "name": "stdout",
     "output_type": "stream",
     "text": [
      "<pandas.core.groupby.generic.DataFrameGroupBy object at 0x000002407729DD90>\n"
     ]
    }
   ],
   "source": [
    "#group by \"Department\"\n",
    "grouped_df = df.groupby(\"Department\")\n",
    "print(grouped_df)"
   ]
  },
  {
   "cell_type": "markdown",
   "id": "9550feb5-7e5c-4e47-9c70-fe2b10058f76",
   "metadata": {},
   "source": [
    "## 1.Calculate the Mean, Median of Salary colomn"
   ]
  },
  {
   "cell_type": "code",
   "execution_count": 6,
   "id": "087d3f77-6d2b-4a23-b754-252321d97803",
   "metadata": {},
   "outputs": [
    {
     "name": "stdout",
     "output_type": "stream",
     "text": [
      "Department\n",
      "Admin Offices            71791.888889\n",
      "Executive Office        250000.000000\n",
      "IT/IS                    97064.640000\n",
      "Production               59953.545455\n",
      "Sales                    69061.258065\n",
      "Software Engineering     94989.454545\n",
      "Name: Salary, dtype: float64\n",
      "Department\n",
      "Admin Offices            63003.0\n",
      "Executive Office        250000.0\n",
      "IT/IS                    92328.5\n",
      "Production               59472.0\n",
      "Sales                    65310.0\n",
      "Software Engineering     95660.0\n",
      "Name: Salary, dtype: float64\n"
     ]
    }
   ],
   "source": [
    "#calculate mean and median salary for each department\n",
    "mean_salary = grouped_df[\"Salary\"].mean()\n",
    "median_salary= grouped_df[\"Salary\"].median()\n",
    "print( mean_salary)\n",
    "print( median_salary)"
   ]
  },
  {
   "cell_type": "markdown",
   "id": "42244114-5b59-4a47-a036-4b7cf5dba7c3",
   "metadata": {},
   "source": [
    "## 2.find out the which Department has highest number of employees."
   ]
  },
  {
   "cell_type": "code",
   "execution_count": 10,
   "id": "a7260ad4-34b2-45ef-995f-24f9333d3a2e",
   "metadata": {},
   "outputs": [
    {
     "name": "stdout",
     "output_type": "stream",
     "text": [
      "This Department has highest number of employees; Production       \n"
     ]
    }
   ],
   "source": [
    "#count employee in each department \n",
    "employee_count= grouped_df.size()\n",
    "\n",
    "#find the department with the highest count\n",
    "highest_count_dept = employee_count.idxmax()\n",
    "print(\"This Department has highest number of employees;\", highest_count_dept)"
   ]
  },
  {
   "cell_type": "markdown",
   "id": "93a69c58-ec25-4992-8ce1-072e2ad1c8bf",
   "metadata": {},
   "source": [
    "## 3. calculate the Standard deviation and Variance of employee"
   ]
  },
  {
   "cell_type": "code",
   "execution_count": 11,
   "id": "871e2889-85aa-45ac-bcd5-b8ece502993f",
   "metadata": {},
   "outputs": [
    {
     "name": "stdout",
     "output_type": "stream",
     "text": [
      "Department-wise Standard Deviation of salary: Department\n",
      "Admin Offices           21706.397164\n",
      "Executive Office                 NaN\n",
      "IT/IS                   33209.612190\n",
      "Production              11422.656822\n",
      "Sales                   21271.393236\n",
      "Software Engineering     9566.505698\n",
      "Name: Salary, dtype: float64\n",
      "Department-wise Variance of salary: Department\n",
      "Admin Offices           4.711677e+08\n",
      "Executive Office                 NaN\n",
      "IT/IS                   1.102878e+09\n",
      "Production              1.304771e+08\n",
      "Sales                   4.524722e+08\n",
      "Software Engineering    9.151803e+07\n",
      "Name: Salary, dtype: float64\n"
     ]
    }
   ],
   "source": [
    "#calculate the standard deviation and variance.\n",
    "std_dev_salary= grouped_df[\"Salary\"].std()\n",
    "variance_salary= grouped_df[\"Salary\"].var()\n",
    "print(\"Department-wise Standard Deviation of salary:\", std_dev_salary)\n",
    "print(\"Department-wise Variance of salary:\", variance_salary)"
   ]
  },
  {
   "cell_type": "markdown",
   "id": "493f0dc5-5230-42e8-85f1-a05418460402",
   "metadata": {},
   "source": [
    "## 4.Find the interquartile range of the \"Salary\" column"
   ]
  },
  {
   "cell_type": "code",
   "execution_count": 12,
   "id": "dcff36e3-6d57-4b42-8331-fe33b67f5396",
   "metadata": {},
   "outputs": [
    {
     "name": "stdout",
     "output_type": "stream",
     "text": [
      "Interquartile Range of Salary per Department: Department\n",
      "Admin Offices           38046.00\n",
      "Executive Office            0.00\n",
      "IT/IS                   29426.75\n",
      "Production              11048.00\n",
      "Sales                    8945.00\n",
      "Software Engineering    11206.00\n",
      "Name: Salary, dtype: float64\n"
     ]
    }
   ],
   "source": [
    "#calculate IQR for each department\n",
    "iqr_salary = grouped_df[\"Salary\"].quantile(0.75) - grouped_df[\"Salary\"].quantile(0.25)\n",
    "print(\"Interquartile Range of Salary per Department:\", iqr_salary)\n"
   ]
  },
  {
   "cell_type": "markdown",
   "id": "d3cb2fae-f618-4872-8db2-3d31d65b048e",
   "metadata": {},
   "source": [
    "## 5.find Skewness and Kurtosis of the original dataset"
   ]
  },
  {
   "cell_type": "code",
   "execution_count": 18,
   "id": "fd0fdee9-a1a8-4343-a1f8-2dd9c95b98ac",
   "metadata": {},
   "outputs": [
    {
     "name": "stdout",
     "output_type": "stream",
     "text": [
      "Skewness of Salary: 3.30618080924006\n",
      "Kurtosis of Salary: 15.452148882638895\n"
     ]
    }
   ],
   "source": [
    "#calculate skewness and kurtosis \n",
    "skewness = df[\"Salary\"] .skew()\n",
    "kurtosis = df[\"Salary\"].kurtosis()\n",
    "print(\"Skewness of Salary:\", skewness)\n",
    "print(\"Kurtosis of Salary:\", kurtosis)"
   ]
  },
  {
   "cell_type": "markdown",
   "id": "c84080a6-cddc-44a4-ae4b-62c417437c66",
   "metadata": {},
   "source": [
    "## 6. find the z-score of the \"Salary\" column"
   ]
  },
  {
   "cell_type": "code",
   "execution_count": 28,
   "id": "a61ce1df-847b-46cd-8b56-274502f2e043",
   "metadata": {},
   "outputs": [
    {
     "name": "stdout",
     "output_type": "stream",
     "text": [
      "Z-scores of Salary: 0     -0.258965\n",
      "1      1.407832\n",
      "2     -0.161615\n",
      "3     -0.160184\n",
      "4     -0.723296\n",
      "         ...   \n",
      "306   -0.124328\n",
      "307   -0.815200\n",
      "308    6.019458\n",
      "309    0.805804\n",
      "310   -0.953016\n",
      "Name: Salary, Length: 311, dtype: float64\n"
     ]
    }
   ],
   "source": [
    "#calculate z-scores \n",
    "z_scores =(df[\"Salary\"] - df[\"Salary\"].mean())/ df[\"Salary\"].std()\n",
    "print(\"Z-scores of Salary:\", z_scores)"
   ]
  },
  {
   "cell_type": "markdown",
   "id": "b5b2951f-e7d8-4b3d-b450-ac3f4ed114d9",
   "metadata": {},
   "source": [
    "## 7. find the 30th  Percentile of the Salary column"
   ]
  },
  {
   "cell_type": "code",
   "execution_count": 19,
   "id": "8e871918-b41a-4ddf-afe1-e56f5ac477b2",
   "metadata": {},
   "outputs": [
    {
     "name": "stdout",
     "output_type": "stream",
     "text": [
      "30th percentile of salary: 57748.0\n"
     ]
    }
   ],
   "source": [
    "#calculate 30th percentile\n",
    "percentile_30 = df[\"Salary\"].quantile(0.3)\n",
    "print(\"30th percentile of salary:\", percentile_30)"
   ]
  },
  {
   "cell_type": "markdown",
   "id": "e437cd83-3963-4d36-91b0-ce7ce0a2de9d",
   "metadata": {},
   "source": [
    "## 8. Find the Quartile of the GenderID column "
   ]
  },
  {
   "cell_type": "code",
   "execution_count": 26,
   "id": "dd741e4c-1a74-402a-b32d-7d94b10a6abc",
   "metadata": {},
   "outputs": [
    {
     "name": "stdout",
     "output_type": "stream",
     "text": [
      "Quantiles of GenderID:\n",
      "\n",
      "Q1: 0.0\n",
      "Q2: 0.0\n",
      "Q3: 1.0\n"
     ]
    }
   ],
   "source": [
    "#calculate quartile for GenderID\n",
    "#(example quartiles: 25th, 50th, 75th)\n",
    "q1_gender = df[\"GenderID\"].quantile(0.25)\n",
    "q2_gender = df[\"GenderID\"].quantile(0.50)\n",
    "q3_gender = df[\"GenderID\"].quantile(0.75)\n",
    "print(\"Quantiles of GenderID:\") \n",
    "print(\"Q1:\", q1_gender)\n",
    "print(\"Q2:\", q2_gender)\n",
    "print(\"Q3:\", q3_gender)\n"
   ]
  },
  {
   "cell_type": "code",
   "execution_count": null,
   "id": "439a8d75-01e9-4b75-874d-97e3b93cba12",
   "metadata": {},
   "outputs": [],
   "source": []
  }
 ],
 "metadata": {
  "kernelspec": {
   "display_name": "Python 3 (ipykernel)",
   "language": "python",
   "name": "python3"
  },
  "language_info": {
   "codemirror_mode": {
    "name": "ipython",
    "version": 3
   },
   "file_extension": ".py",
   "mimetype": "text/x-python",
   "name": "python",
   "nbconvert_exporter": "python",
   "pygments_lexer": "ipython3",
   "version": "3.12.6"
  }
 },
 "nbformat": 4,
 "nbformat_minor": 5
}
