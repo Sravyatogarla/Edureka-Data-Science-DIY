{
 "cells": [
  {
   "cell_type": "markdown",
   "id": "2e03d917-c6c4-40fe-bbf9-d101627368ba",
   "metadata": {},
   "source": [
    "# Day - 28 DIY"
   ]
  },
  {
   "cell_type": "markdown",
   "id": "f951c077-e3b6-4554-af6a-7a4ec5983f23",
   "metadata": {},
   "source": [
    "**Q1. Problem Statement: Statistical Hypothesis Testing**\n",
    "\n",
    "A company  claims  that  its  employees  earn  approximately  5LPA  on  average.  A random sample of 50 employees was taken, and it turned out to have a mean of 2 LPA. Perform hypothesis testing for the given claim having a population mean of 5 LPA with a standard deviation of 3.\n",
    "\n",
    "H0:u(Null hypothesis)  = Employeesareearning on an average around 5LPA \n",
    "\n",
    "H1:u(Alternate hypothesis)= Employees are not earning 5LPA on an averag"
   ]
  },
  {
   "cell_type": "code",
   "execution_count": 3,
   "id": "02e63f25-37c2-4b88-b1be-99bc25421a7c",
   "metadata": {},
   "outputs": [
    {
     "name": "stdout",
     "output_type": "stream",
     "text": [
      "t-statistic: -7.671556914673497\n",
      "p-value: 6.092026456612802e-10\n"
     ]
    }
   ],
   "source": [
    "# problem statement-1\n",
    "import numpy as np\n",
    "from scipy.stats import ttest_1samp\n",
    "#sample data\n",
    "sample_mean = 2\n",
    "total_mean = 5\n",
    "standard_deviation = 3\n",
    "sample_size = 50\n",
    "\n",
    "#Create a random sample\n",
    "sample_data = np.random.normal(sample_mean, standard_deviation, sample_size)\n",
    "\n",
    "#perform one-sample t_test \n",
    "t_statistic, p_value = ttest_1samp(sample_data, total_mean)\n",
    "#set significance level (alpha)\n",
    "alpha = 0.05\n",
    "#print results\n",
    "print(\"t-statistic:\", t_statistic)\n",
    "print(\"p-value:\", p_value)"
   ]
  },
  {
   "cell_type": "code",
   "execution_count": 5,
   "id": "ca970d9c-122e-4ecd-9b87-05745e55f926",
   "metadata": {},
   "outputs": [
    {
     "name": "stdout",
     "output_type": "stream",
     "text": [
      "We are Rejecting null hypothesis and accepting alternate hypothesis \n"
     ]
    }
   ],
   "source": [
    "#compare p-values with alpha\n",
    "if p_value < alpha:\n",
    "    print(\"We are Rejecting null hypothesis and accepting alternate hypothesis \")\n",
    "else: print(\"Fail to reject the null hupothesis. there is not enough evidence to conclude that the employees' average earnings are different from 5 LPA.\")"
   ]
  },
  {
   "cell_type": "code",
   "execution_count": null,
   "id": "80e1cb7b-f93a-42ca-9bae-45442e3fa17e",
   "metadata": {},
   "outputs": [],
   "source": []
  }
 ],
 "metadata": {
  "kernelspec": {
   "display_name": "Python 3 (ipykernel)",
   "language": "python",
   "name": "python3"
  },
  "language_info": {
   "codemirror_mode": {
    "name": "ipython",
    "version": 3
   },
   "file_extension": ".py",
   "mimetype": "text/x-python",
   "name": "python",
   "nbconvert_exporter": "python",
   "pygments_lexer": "ipython3",
   "version": "3.12.6"
  }
 },
 "nbformat": 4,
 "nbformat_minor": 5
}
