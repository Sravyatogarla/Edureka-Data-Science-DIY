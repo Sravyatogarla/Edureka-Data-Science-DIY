{
 "cells": [
  {
   "cell_type": "markdown",
   "id": "8cf032a3-96de-4d98-9243-dfa858c3182c",
   "metadata": {},
   "source": [
    "# Day - 19 DIY "
   ]
  },
  {
   "cell_type": "markdown",
   "id": "6ad10942-0250-4c77-8c81-cb537e66c52f",
   "metadata": {},
   "source": [
    "**Q1. Problem Statement: Measures of Central Tendency-I**\n",
    "\n",
    "Write a Python program to declare a 1-D array. With the help of the statistics library, calculate the Mean, Median, and Mode."
   ]
  },
  {
   "cell_type": "code",
   "execution_count": 2,
   "id": "43290a8b-fb7e-4acf-ade6-75bbd8184944",
   "metadata": {},
   "outputs": [
    {
     "name": "stdout",
     "output_type": "stream",
     "text": [
      "Mean of the Array is: 3\n",
      "Median of the Array is: 4\n",
      "Mode of the Array is: 5\n"
     ]
    }
   ],
   "source": [
    "#problem statement-1\n",
    "\n",
    "#importing a required libraries\n",
    "import numpy as np\n",
    "import statistics as st\n",
    "#declare the array\n",
    "a=np.array([1,2,3,4,5,6,2,3,4,5,5,5,5])\n",
    "#calculate the mean, median,mode\n",
    "mean = st.mean(a)\n",
    "median = st.median(a)\n",
    "mode = st.mode(a)\n",
    "#print the result\n",
    "print(\"Mean of the Array is:\", mean)\n",
    "print(\"Median of the Array is:\", median)\n",
    "print(\"Mode of the Array is:\", mode)"
   ]
  },
  {
   "cell_type": "markdown",
   "id": "606d7d29-99f1-43b1-a50f-bf6ae059e4e6",
   "metadata": {},
   "source": [
    "**Q2. Problem Statement: Measures of Central Tendency-II**\n",
    "\n",
    "Write a Python program to declare a DataFrame as shown in the dataset section below and calculate the Mean, Median, and Mode of the entire DataFrame."
   ]
  },
  {
   "cell_type": "code",
   "execution_count": 3,
   "id": "9a9bb739-ff58-4e13-be6d-77c63e47fb71",
   "metadata": {},
   "outputs": [
    {
     "name": "stdout",
     "output_type": "stream",
     "text": [
      "      Apple  Orange  Banana  Pear\n",
      "Bag1     10      20      30    40\n",
      "Bag2      7      14      21    28\n",
      "Bag3     55      15       8    12\n",
      "Bag4     15      14       1     8\n",
      "Bag5      7       1       1     8\n",
      "Bag6      5       4       9     2\n"
     ]
    }
   ],
   "source": [
    "import pandas as pd\n",
    "data= {'Apple':[10,7,55,15,7,5],'Orange':[20,14,15,14,1,4],\n",
    "       'Banana':[30,21,8,1,1,9],\"Pear\":[40,28,12,8,8,2]}\n",
    "\n",
    "df=pd.DataFrame(data, index=['Bag1','Bag2','Bag3','Bag4','Bag5','Bag6'])\n",
    "print(df)\n"
   ]
  },
  {
   "cell_type": "code",
   "execution_count": 14,
   "id": "2817d42e-860b-4b08-aa86-05537d895214",
   "metadata": {},
   "outputs": [
    {
     "name": "stdout",
     "output_type": "stream",
     "text": [
      "Calculating the Mean:\n",
      "\n",
      "Apple     16.500000\n",
      "Orange    11.333333\n",
      "Banana    11.666667\n",
      "Pear      16.333333\n",
      "dtype: float64\n",
      "Calculating the Median:\n",
      "\n",
      "Apple      8.5\n",
      "Orange    14.0\n",
      "Banana     8.5\n",
      "Pear      10.0\n",
      "dtype: float64\n",
      "calculating the Mode:\n",
      "\n",
      "   Apple  Orange  Banana  Pear\n",
      "0      7      14       1     8\n"
     ]
    }
   ],
   "source": [
    "#calculate the mean\n",
    "print(\"Calculating the Mean:\\n\")\n",
    "print(df.mean().round(6))\n",
    "#calculate the median\n",
    "print(\"Calculating the Median:\\n\")\n",
    "print(df.median().round(6))\n",
    "#calculate the Mode\n",
    "print(\"calculating the Mode:\\n\")\n",
    "print(df.mode(axis=0).round(6))\n"
   ]
  },
  {
   "cell_type": "markdown",
   "id": "0ccc9905-cb2d-4a11-9ad1-3be032a16056",
   "metadata": {},
   "source": [
    "**Q3. Problem Statement: Measures of Central Tendency-III**\n",
    "\n",
    "Load the “Books.csv”dataset into a DataFrame and perform the following tasks:1.Perform   initial   analysis   on   the dataset   using   the info()and  the describe()functions2.Group the data based on the \"Author\"column and calculate the average user ratings and average price,and write them in new columns3.Find out which of the authorshave writtenthe maximum number of books"
   ]
  },
  {
   "cell_type": "code",
   "execution_count": 4,
   "id": "8b0d051d-03cd-48ae-bd1e-e14a85ebaae9",
   "metadata": {},
   "outputs": [
    {
     "name": "stdout",
     "output_type": "stream",
     "text": [
      "                                                  Name                 Author  \\\n",
      "0    Act Like a Lady, Think Like a Man: What Men Re...           Steve Harvey   \n",
      "1    Arguing with Idiots: How to Stop Small Minds a...             Glenn Beck   \n",
      "2            Breaking Dawn (The Twilight Saga, Book 4)        Stephenie Meyer   \n",
      "3          Crazy Love: Overwhelmed by a Relentless God           Francis Chan   \n",
      "4    Dead And Gone: A Sookie Stackhouse Novel (Sook...       Charlaine Harris   \n",
      "..                                                 ...                    ...   \n",
      "695                   The Wonderful Things You Will Be  Emily Winfield Martin   \n",
      "696                                 Ugly Love: A Novel         Colleen Hoover   \n",
      "697                                             Verity         Colleen Hoover   \n",
      "698               What to Expect When You're Expecting          Heidi Murkoff   \n",
      "699                            Where the Crawdads Sing            Delia Owens   \n",
      "\n",
      "     User Rating  Reviews  Price  Year        Genre  \n",
      "0            4.6     5013     17  2009  Non Fiction  \n",
      "1            4.6      798      5  2009  Non Fiction  \n",
      "2            4.6     9769     13  2009      Fiction  \n",
      "3            4.7     1542     14  2009  Non Fiction  \n",
      "4            4.6     1541      4  2009      Fiction  \n",
      "..           ...      ...    ...   ...          ...  \n",
      "695          4.9    20920      9  2022      Fiction  \n",
      "696          4.7    33929     10  2022      Fiction  \n",
      "697          4.6    71826     11  2022      Fiction  \n",
      "698          4.8    27052     13  2022  Non Fiction  \n",
      "699          4.8   208917     10  2022      Fiction  \n",
      "\n",
      "[700 rows x 7 columns]\n"
     ]
    }
   ],
   "source": [
    "#importing the csv file\n",
    "df=pd.read_csv(\"Books.csv\")\n",
    "print(df)"
   ]
  },
  {
   "cell_type": "code",
   "execution_count": 6,
   "id": "76ec2e63-6aa9-480e-b8a4-2a9d94b5d7ed",
   "metadata": {},
   "outputs": [
    {
     "name": "stdout",
     "output_type": "stream",
     "text": [
      "<class 'pandas.core.frame.DataFrame'>\n",
      "RangeIndex: 700 entries, 0 to 699\n",
      "Data columns (total 7 columns):\n",
      " #   Column       Non-Null Count  Dtype  \n",
      "---  ------       --------------  -----  \n",
      " 0   Name         700 non-null    object \n",
      " 1   Author       700 non-null    object \n",
      " 2   User Rating  700 non-null    float64\n",
      " 3   Reviews      700 non-null    int64  \n",
      " 4   Price        700 non-null    int64  \n",
      " 5   Year         700 non-null    int64  \n",
      " 6   Genre        700 non-null    object \n",
      "dtypes: float64(1), int64(3), object(3)\n",
      "memory usage: 38.4+ KB\n"
     ]
    }
   ],
   "source": [
    "#initial analysis\n",
    "df.info()"
   ]
  },
  {
   "cell_type": "code",
   "execution_count": 50,
   "id": "0f900ce1-cea8-42c4-93e3-fa8f52b5d892",
   "metadata": {},
   "outputs": [
    {
     "data": {
      "text/html": [
       "<div>\n",
       "<style scoped>\n",
       "    .dataframe tbody tr th:only-of-type {\n",
       "        vertical-align: middle;\n",
       "    }\n",
       "\n",
       "    .dataframe tbody tr th {\n",
       "        vertical-align: top;\n",
       "    }\n",
       "\n",
       "    .dataframe thead th {\n",
       "        text-align: right;\n",
       "    }\n",
       "</style>\n",
       "<table border=\"1\" class=\"dataframe\">\n",
       "  <thead>\n",
       "    <tr style=\"text-align: right;\">\n",
       "      <th></th>\n",
       "      <th>User Rating</th>\n",
       "      <th>Reviews</th>\n",
       "      <th>Price</th>\n",
       "      <th>Year</th>\n",
       "    </tr>\n",
       "  </thead>\n",
       "  <tbody>\n",
       "    <tr>\n",
       "      <th>count</th>\n",
       "      <td>700.000000</td>\n",
       "      <td>700.000000</td>\n",
       "      <td>700.000000</td>\n",
       "      <td>700.000000</td>\n",
       "    </tr>\n",
       "    <tr>\n",
       "      <th>mean</th>\n",
       "      <td>4.639857</td>\n",
       "      <td>19255.195714</td>\n",
       "      <td>12.700000</td>\n",
       "      <td>2015.500000</td>\n",
       "    </tr>\n",
       "    <tr>\n",
       "      <th>std</th>\n",
       "      <td>0.218586</td>\n",
       "      <td>23613.443875</td>\n",
       "      <td>9.915162</td>\n",
       "      <td>4.034011</td>\n",
       "    </tr>\n",
       "    <tr>\n",
       "      <th>min</th>\n",
       "      <td>3.300000</td>\n",
       "      <td>37.000000</td>\n",
       "      <td>0.000000</td>\n",
       "      <td>2009.000000</td>\n",
       "    </tr>\n",
       "    <tr>\n",
       "      <th>25%</th>\n",
       "      <td>4.500000</td>\n",
       "      <td>4987.250000</td>\n",
       "      <td>7.000000</td>\n",
       "      <td>2012.000000</td>\n",
       "    </tr>\n",
       "    <tr>\n",
       "      <th>50%</th>\n",
       "      <td>4.700000</td>\n",
       "      <td>10284.000000</td>\n",
       "      <td>11.000000</td>\n",
       "      <td>2015.500000</td>\n",
       "    </tr>\n",
       "    <tr>\n",
       "      <th>75%</th>\n",
       "      <td>4.800000</td>\n",
       "      <td>23358.000000</td>\n",
       "      <td>15.000000</td>\n",
       "      <td>2019.000000</td>\n",
       "    </tr>\n",
       "    <tr>\n",
       "      <th>max</th>\n",
       "      <td>4.900000</td>\n",
       "      <td>208917.000000</td>\n",
       "      <td>105.000000</td>\n",
       "      <td>2022.000000</td>\n",
       "    </tr>\n",
       "  </tbody>\n",
       "</table>\n",
       "</div>"
      ],
      "text/plain": [
       "       User Rating        Reviews       Price         Year\n",
       "count   700.000000     700.000000  700.000000   700.000000\n",
       "mean      4.639857   19255.195714   12.700000  2015.500000\n",
       "std       0.218586   23613.443875    9.915162     4.034011\n",
       "min       3.300000      37.000000    0.000000  2009.000000\n",
       "25%       4.500000    4987.250000    7.000000  2012.000000\n",
       "50%       4.700000   10284.000000   11.000000  2015.500000\n",
       "75%       4.800000   23358.000000   15.000000  2019.000000\n",
       "max       4.900000  208917.000000  105.000000  2022.000000"
      ]
     },
     "execution_count": 50,
     "metadata": {},
     "output_type": "execute_result"
    }
   ],
   "source": [
    "df.describe()"
   ]
  },
  {
   "cell_type": "code",
   "execution_count": 7,
   "id": "48208134-1d0f-4ed0-b717-7c6de4e45110",
   "metadata": {},
   "outputs": [
    {
     "data": {
      "text/html": [
       "<div>\n",
       "<style scoped>\n",
       "    .dataframe tbody tr th:only-of-type {\n",
       "        vertical-align: middle;\n",
       "    }\n",
       "\n",
       "    .dataframe tbody tr th {\n",
       "        vertical-align: top;\n",
       "    }\n",
       "\n",
       "    .dataframe thead th {\n",
       "        text-align: right;\n",
       "    }\n",
       "</style>\n",
       "<table border=\"1\" class=\"dataframe\">\n",
       "  <thead>\n",
       "    <tr style=\"text-align: right;\">\n",
       "      <th></th>\n",
       "      <th>Author</th>\n",
       "      <th>Average_Price</th>\n",
       "    </tr>\n",
       "  </thead>\n",
       "  <tbody>\n",
       "    <tr>\n",
       "      <th>0</th>\n",
       "      <td>Abraham Verghese</td>\n",
       "      <td>11.000000</td>\n",
       "    </tr>\n",
       "    <tr>\n",
       "      <th>1</th>\n",
       "      <td>Adam Gasiewski</td>\n",
       "      <td>6.000000</td>\n",
       "    </tr>\n",
       "    <tr>\n",
       "      <th>2</th>\n",
       "      <td>Adam Mansbach</td>\n",
       "      <td>9.000000</td>\n",
       "    </tr>\n",
       "    <tr>\n",
       "      <th>3</th>\n",
       "      <td>Adam Silvera</td>\n",
       "      <td>8.000000</td>\n",
       "    </tr>\n",
       "    <tr>\n",
       "      <th>4</th>\n",
       "      <td>Adam Wallace</td>\n",
       "      <td>6.250000</td>\n",
       "    </tr>\n",
       "    <tr>\n",
       "      <th>...</th>\n",
       "      <td>...</td>\n",
       "      <td>...</td>\n",
       "    </tr>\n",
       "    <tr>\n",
       "      <th>300</th>\n",
       "      <td>William P. Young</td>\n",
       "      <td>8.000000</td>\n",
       "    </tr>\n",
       "    <tr>\n",
       "      <th>301</th>\n",
       "      <td>Wizards RPG Team</td>\n",
       "      <td>27.000000</td>\n",
       "    </tr>\n",
       "    <tr>\n",
       "      <th>302</th>\n",
       "      <td>Wonder House Books</td>\n",
       "      <td>16.000000</td>\n",
       "    </tr>\n",
       "    <tr>\n",
       "      <th>303</th>\n",
       "      <td>Workman Publishing</td>\n",
       "      <td>7.666667</td>\n",
       "    </tr>\n",
       "    <tr>\n",
       "      <th>304</th>\n",
       "      <td>Zhi Gang Sha</td>\n",
       "      <td>11.500000</td>\n",
       "    </tr>\n",
       "  </tbody>\n",
       "</table>\n",
       "<p>305 rows × 2 columns</p>\n",
       "</div>"
      ],
      "text/plain": [
       "                 Author  Average_Price\n",
       "0      Abraham Verghese      11.000000\n",
       "1        Adam Gasiewski       6.000000\n",
       "2         Adam Mansbach       9.000000\n",
       "3          Adam Silvera       8.000000\n",
       "4          Adam Wallace       6.250000\n",
       "..                  ...            ...\n",
       "300    William P. Young       8.000000\n",
       "301    Wizards RPG Team      27.000000\n",
       "302  Wonder House Books      16.000000\n",
       "303  Workman Publishing       7.666667\n",
       "304        Zhi Gang Sha      11.500000\n",
       "\n",
       "[305 rows x 2 columns]"
      ]
     },
     "metadata": {},
     "output_type": "display_data"
    }
   ],
   "source": [
    "#Average price(Mean)\n",
    "price_df =  df.groupby(['Author'],as_index=False).Price.mean()\n",
    "price_df.rename(columns = {'Price':'Average_Price'}, inplace = True)\n",
    "display(price_df)"
   ]
  },
  {
   "cell_type": "code",
   "execution_count": 8,
   "id": "bcafb25a-ae14-4391-90ea-028b93d420c6",
   "metadata": {},
   "outputs": [
    {
     "data": {
      "text/html": [
       "<div>\n",
       "<style scoped>\n",
       "    .dataframe tbody tr th:only-of-type {\n",
       "        vertical-align: middle;\n",
       "    }\n",
       "\n",
       "    .dataframe tbody tr th {\n",
       "        vertical-align: top;\n",
       "    }\n",
       "\n",
       "    .dataframe thead th {\n",
       "        text-align: right;\n",
       "    }\n",
       "</style>\n",
       "<table border=\"1\" class=\"dataframe\">\n",
       "  <thead>\n",
       "    <tr style=\"text-align: right;\">\n",
       "      <th></th>\n",
       "      <th>Author</th>\n",
       "      <th>Average_Price</th>\n",
       "    </tr>\n",
       "  </thead>\n",
       "  <tbody>\n",
       "    <tr>\n",
       "      <th>0</th>\n",
       "      <td>Abraham Verghese</td>\n",
       "      <td>11.000000</td>\n",
       "    </tr>\n",
       "    <tr>\n",
       "      <th>1</th>\n",
       "      <td>Adam Gasiewski</td>\n",
       "      <td>6.000000</td>\n",
       "    </tr>\n",
       "    <tr>\n",
       "      <th>2</th>\n",
       "      <td>Adam Mansbach</td>\n",
       "      <td>9.000000</td>\n",
       "    </tr>\n",
       "    <tr>\n",
       "      <th>3</th>\n",
       "      <td>Adam Silvera</td>\n",
       "      <td>8.000000</td>\n",
       "    </tr>\n",
       "    <tr>\n",
       "      <th>4</th>\n",
       "      <td>Adam Wallace</td>\n",
       "      <td>6.250000</td>\n",
       "    </tr>\n",
       "    <tr>\n",
       "      <th>...</th>\n",
       "      <td>...</td>\n",
       "      <td>...</td>\n",
       "    </tr>\n",
       "    <tr>\n",
       "      <th>300</th>\n",
       "      <td>William P. Young</td>\n",
       "      <td>8.000000</td>\n",
       "    </tr>\n",
       "    <tr>\n",
       "      <th>301</th>\n",
       "      <td>Wizards RPG Team</td>\n",
       "      <td>27.000000</td>\n",
       "    </tr>\n",
       "    <tr>\n",
       "      <th>302</th>\n",
       "      <td>Wonder House Books</td>\n",
       "      <td>16.000000</td>\n",
       "    </tr>\n",
       "    <tr>\n",
       "      <th>303</th>\n",
       "      <td>Workman Publishing</td>\n",
       "      <td>7.666667</td>\n",
       "    </tr>\n",
       "    <tr>\n",
       "      <th>304</th>\n",
       "      <td>Zhi Gang Sha</td>\n",
       "      <td>11.500000</td>\n",
       "    </tr>\n",
       "  </tbody>\n",
       "</table>\n",
       "<p>305 rows × 2 columns</p>\n",
       "</div>"
      ],
      "text/plain": [
       "                 Author  Average_Price\n",
       "0      Abraham Verghese      11.000000\n",
       "1        Adam Gasiewski       6.000000\n",
       "2         Adam Mansbach       9.000000\n",
       "3          Adam Silvera       8.000000\n",
       "4          Adam Wallace       6.250000\n",
       "..                  ...            ...\n",
       "300    William P. Young       8.000000\n",
       "301    Wizards RPG Team      27.000000\n",
       "302  Wonder House Books      16.000000\n",
       "303  Workman Publishing       7.666667\n",
       "304        Zhi Gang Sha      11.500000\n",
       "\n",
       "[305 rows x 2 columns]"
      ]
     },
     "metadata": {},
     "output_type": "display_data"
    }
   ],
   "source": [
    "#Average price(Mean)\n",
    "price_df =  df.groupby(['Author'],as_index=False).Price.mean()\n",
    "price_df.rename(columns = {'Price':'Average_Price'}, inplace = True)\n",
    "display(price_df)"
   ]
  },
  {
   "cell_type": "code",
   "execution_count": 54,
   "id": "b74ca592-7213-4b37-a2a5-c68d9e44e8b7",
   "metadata": {},
   "outputs": [
    {
     "name": "stdout",
     "output_type": "stream",
     "text": [
      "Maximum number of books are written by: \n"
     ]
    },
    {
     "data": {
      "text/plain": [
       "0    Gary Chapman\n",
       "1     Jeff Kinney\n",
       "Name: Author, dtype: object"
      ]
     },
     "metadata": {},
     "output_type": "display_data"
    }
   ],
   "source": [
    "#Finding the author who has wrote maximum number of books.\n",
    "print(\"Maximum number of books are written by: \")\n",
    "display(df['Author'].mode())"
   ]
  },
  {
   "cell_type": "code",
   "execution_count": null,
   "id": "1d2332f0-0bb0-4173-a083-e5ea23492312",
   "metadata": {},
   "outputs": [],
   "source": []
  },
  {
   "cell_type": "code",
   "execution_count": null,
   "id": "5fc79ccc-03b2-41a0-8af5-13a776456698",
   "metadata": {},
   "outputs": [],
   "source": []
  }
 ],
 "metadata": {
  "kernelspec": {
   "display_name": "Python 3 (ipykernel)",
   "language": "python",
   "name": "python3"
  },
  "language_info": {
   "codemirror_mode": {
    "name": "ipython",
    "version": 3
   },
   "file_extension": ".py",
   "mimetype": "text/x-python",
   "name": "python",
   "nbconvert_exporter": "python",
   "pygments_lexer": "ipython3",
   "version": "3.12.6"
  }
 },
 "nbformat": 4,
 "nbformat_minor": 5
}
