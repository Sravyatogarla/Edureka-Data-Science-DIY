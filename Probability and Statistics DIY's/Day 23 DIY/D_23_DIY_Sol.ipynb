{
 "cells": [
  {
   "cell_type": "markdown",
   "id": "aad78ebb-b35f-4093-a3ba-e149d742f540",
   "metadata": {},
   "source": [
    "# Day - 23 DIY"
   ]
  },
  {
   "cell_type": "markdown",
   "id": "9f69e228-4c5a-402e-8a63-b84b10fecf83",
   "metadata": {},
   "source": [
    "**Q1. Problem statement(Probability of an event)**\n",
    "\n",
    "Consider that you have a coin and dice. Each time you roll them, you get a result, so try to solve the given questions based on coins and dice.\n",
    "\n",
    "1.Roll the dice twice and find the probability of getting the number 6 each time.\n",
    "\n",
    "2.Roll two dice at a time and find the probability of getting a sum of both dice greater than 9.\n",
    "\n",
    "3.Flip a coin three times continuously and find the probability of getting three heads in a row.\n",
    "\n",
    "4.Flip a coin anddice simultaneously and find the probability of getting head on the coin and number \n",
    "\n",
    "5 on the dice simultaneously.5.Card is drawn at random from the pack of 52 cards:I.Find the probability that it is an honor card.II.It is a face card of a diamond house."
   ]
  },
  {
   "cell_type": "markdown",
   "id": "c4937ca0-1487-4896-a89a-8643c90a587f",
   "metadata": {},
   "source": [
    "## 1. Roll the dice twice and find the probability of getting the number 6 each time."
   ]
  },
  {
   "cell_type": "markdown",
   "id": "bc70c5fe-e45d-46c9-b004-7d1c886a87df",
   "metadata": {},
   "source": [
    "- When we roll a dice 2 times each time a number will generate and two times roll then it will generate two numbers. So when we roll two dice, its possibal combination are 36. That is,<br>\n",
    "(1,1),(1,2)(1,3).........(6,4)(6,5)(6,6), total count is 36. "
   ]
  },
  {
   "cell_type": "code",
   "execution_count": 1,
   "id": "a204a2a9-2ec3-4128-b779-56dbf6e10daf",
   "metadata": {},
   "outputs": [
    {
     "name": "stdout",
     "output_type": "stream",
     "text": [
      "Probability of getting number 6 on each dice is 0.028\n"
     ]
    }
   ],
   "source": [
    "total_outcome = 36\n",
    "possibal_outcome = 1 # there is only one combination which will give asked combination is (6,6)\n",
    "\n",
    "probability = round(possibal_outcome/total_outcome,3)\n",
    "print(\"Probability of getting number 6 on each dice is\",probability)"
   ]
  },
  {
   "cell_type": "markdown",
   "id": "ca85b23d-0b4e-43d1-8cbb-d94d0a501c30",
   "metadata": {},
   "source": [
    "## 2. Roll two dice at a time and find the probability of getting a sum of both dice greater than 9."
   ]
  },
  {
   "cell_type": "markdown",
   "id": "6812c2e6-acde-47f3-969f-92100f14f3fb",
   "metadata": {},
   "source": [
    "- The sum of numbers on the dice must be greater than 9, it means if we roll two dice then  we only cosider those outcome which has more sum than 9. If we roll a dice together then it will generate 36 outcomes.<br>\n",
    "(1,1),(1,2)(1,3).........(6,4)(6,5)(6,6)"
   ]
  },
  {
   "cell_type": "code",
   "execution_count": 2,
   "id": "39221fd0-556e-4d27-95dd-cc5a515ef4c1",
   "metadata": {},
   "outputs": [
    {
     "name": "stdout",
     "output_type": "stream",
     "text": [
      "Probability of getting a sum of both dice more than 9 is:  0.167\n"
     ]
    }
   ],
   "source": [
    "total_outcome = 36\n",
    "possibal_outcome = 6 # (4,6)(5,5)(5,6)(6,4)(6,5)(6,6)\n",
    "\n",
    "probability = round(possibal_outcome/total_outcome,3)\n",
    "print(\"Probability of getting a sum of both dice more than 9 is: \",probability)"
   ]
  },
  {
   "cell_type": "markdown",
   "id": "19b87ed5-1c6a-4987-8647-1aa399fa9a24",
   "metadata": {},
   "source": [
    "## 3. Flip a coin three times continuously and find the probability of getting three heads in a row."
   ]
  },
  {
   "cell_type": "markdown",
   "id": "149122f4-92e2-4b02-b515-124bd42e0510",
   "metadata": {},
   "source": [
    "- Coin has only two possible outcomes are head(H) and tails(T), but when we flip it in a continuous manner, its combination will generate like,<br>\n",
    "(HHH),(HHT),(HTH),(THH),(TTH),(THT),(HTT),(TTT)"
   ]
  },
  {
   "cell_type": "code",
   "execution_count": 3,
   "id": "30346603-b54b-4c34-b88b-95e909bedb8a",
   "metadata": {},
   "outputs": [
    {
     "name": "stdout",
     "output_type": "stream",
     "text": [
      "Probability of getting three heads in a row is: 0.125\n"
     ]
    }
   ],
   "source": [
    "total_outcome = 8\n",
    "possibal_outcome = 1 #(HHH)\n",
    "\n",
    "probability = round(possibal_outcome/total_outcome,3)\n",
    "print(\"Probability of getting three heads in a row is:\",probability)"
   ]
  },
  {
   "cell_type": "markdown",
   "id": "af12adf2-ed3c-40ef-aa6f-d9075903bb51",
   "metadata": {},
   "source": [
    "## 4. Flip a coin and dice at the same time and find the probability of getting head on the coin and number 5 on the dice at the same time."
   ]
  },
  {
   "cell_type": "markdown",
   "id": "adff5d5b-7f0b-4fd7-92d3-54f1181ba3fb",
   "metadata": {},
   "source": [
    "- When we flip a coin, two possible outcomes will be generated, and when we roll a dice, six outcomes will be generated. Now, if we do both things at the same time, a total of 12 outcomes will be generated, like , 2 outcomes of coin * 6 outcomes of dice = 12 outcomes.<br>\n",
    "(H,1)(H,2)(H,3)(H,4)(H,5)(H,6),(T,1),(T,2),(T,3),(T,4),(T,5),(T,6)"
   ]
  },
  {
   "cell_type": "code",
   "execution_count": 5,
   "id": "79a9c3ae-b8da-4d86-ae1b-24cf25b934e2",
   "metadata": {},
   "outputs": [
    {
     "name": "stdout",
     "output_type": "stream",
     "text": [
      "Probability of getting Head on the coin and number 5 on the dice at the same time is: 0.083\n"
     ]
    }
   ],
   "source": [
    "total_outcome = 12\n",
    "possibal_outcome = 1 #(HHH)\n",
    "\n",
    "probability = round(possibal_outcome/total_outcome,3)\n",
    "print(\"Probability of getting Head on the coin and number 5 on the dice at the same time is:\",probability)"
   ]
  },
  {
   "cell_type": "markdown",
   "id": "95da1508-5a7c-4d8d-85e8-76035bcc84aa",
   "metadata": {},
   "source": [
    "## 5. Card is drawn at random from the pack of 52 cards"
   ]
  },
  {
   "cell_type": "markdown",
   "id": "3bf3f42d-5e1e-475b-9825-6a8e092b4c91",
   "metadata": {},
   "source": [
    "- I. Find the probability that it is an honor card.\n",
    "II. It is a face card of diamond house.\n",
    "The card deck has a total of 52 cards with 4 houses. Each house has 4 honor cards, and out of those, 3 are face cards.\n"
   ]
  },
  {
   "cell_type": "code",
   "execution_count": 7,
   "id": "05608b62-2d94-4bb5-8855-535d60fcd2f3",
   "metadata": {},
   "outputs": [
    {
     "name": "stdout",
     "output_type": "stream",
     "text": [
      "Probability of getting an honor card is: 0.308\n"
     ]
    }
   ],
   "source": [
    "#I. Find the Probability that it is an honor card\n",
    "total_honor_cards = 16 # each house has 4 and total 4 house are there 4*4 = 16\n",
    "total_outcome = 52 #Total 52 cards are there\n",
    "\n",
    "probability = round(total_honor_cards/total_outcome,3)\n",
    "print(\"Probability of getting an honor card is:\",probability)"
   ]
  },
  {
   "cell_type": "code",
   "execution_count": 8,
   "id": "6b490b5e-4c50-4926-8ff9-5e4727201c18",
   "metadata": {},
   "outputs": [
    {
     "name": "stdout",
     "output_type": "stream",
     "text": [
      "Probability of getting an honor card is: 0.058\n"
     ]
    }
   ],
   "source": [
    "#II. It is a face card of diamond.\n",
    "# total 3 face cards are there in diamond house\n",
    "#I. Find the Probability that it is an honor card\n",
    "total_face_cards_diamond = 3 # each house has 4 and total 4 house are there 4*4 = 16\n",
    "total_outcome = 52 #Total 52 cards are there\n",
    "\n",
    "probability = round(total_face_cards_diamond/total_outcome,3)\n",
    "print(\"Probability of getting an honor card is:\",probability)"
   ]
  },
  {
   "cell_type": "markdown",
   "id": "08ada6c0-a5ff-411c-afba-fbd128c69c65",
   "metadata": {},
   "source": [
    "**Q2. Problem statement(Union and intersection of events)**\n",
    "\n",
    "In  a  class  of  100  students,  a  survey  was  conducted  for  their  favorite  subject, where they could choose only one subject as their favorite. 23 boys and 15 girls like Maths, 17 boys and 23 girls like Science, and 10 boys and 12 girls like English. If we choose a random student out of them, find out the probability, where,\n",
    "\n",
    "1.Students love Science subject.\n",
    "\n",
    "2.Girls love Maths subject or English subject.\n",
    "\n",
    "3.If  she is a girl, she loves English, or if he is a boy, then he loves Maths."
   ]
  },
  {
   "cell_type": "markdown",
   "id": "fdf96e73-1f46-4723-a552-a4983f855ac5",
   "metadata": {},
   "source": [
    "## 1. Students love Science subject."
   ]
  },
  {
   "cell_type": "code",
   "execution_count": null,
   "id": "234acf53-e556-4b17-92b9-d09d9ac3eb27",
   "metadata": {},
   "outputs": [],
   "source": [
    "total_boys_love_science = 17\n",
    "total_girls_love_science = 23\n",
    "total_students_loves_science = total_girls_love_science + total_boys_love_science \n",
    "total_student =100\n",
    "\n",
    "student_lov_science = round(total_students_loves_science/total_student,2)\n",
    "print(\"Probability of student loving science is \",student_lov_science)"
   ]
  },
  {
   "cell_type": "markdown",
   "id": "c250a9e8-b5fd-472d-989e-3d08abe3e9a8",
   "metadata": {},
   "source": [
    "## 2. Girls love Maths subject or English subject."
   ]
  },
  {
   "cell_type": "code",
   "execution_count": 9,
   "id": "67bb6826-a48b-487f-93a5-43f6b7f80056",
   "metadata": {},
   "outputs": [
    {
     "name": "stdout",
     "output_type": "stream",
     "text": [
      "Probability of girl loves maths or science subject is  0.27\n"
     ]
    }
   ],
   "source": [
    "total_girls_love_maths = 15\n",
    "total_girls_love_english = 12\n",
    "total_student = 100\n",
    "\n",
    "# probability of girl loves maths\n",
    "prob_girl_loves_maths = round(total_girls_love_maths/total_student,2) \n",
    "\n",
    "# probability of girl loves science\n",
    "prob_girl_loves_science = round(total_girls_love_english/total_student,2)\n",
    "\n",
    "# total probability of girls love science or maths\n",
    "#formula p(a OR b) = p(a) + p(b) # independent event\n",
    "prob_girl_loves_science_or_maths = prob_girl_loves_science + prob_girl_loves_maths\n",
    "print(\"Probability of girl loves maths or science subject is \",prob_girl_loves_science_or_maths)"
   ]
  },
  {
   "cell_type": "markdown",
   "id": "b7322f60-3269-4159-83ad-f59869ea3443",
   "metadata": {},
   "source": [
    "## 3.If she is a girl, she loves English, or if he is a boy, then he loves Maths."
   ]
  },
  {
   "cell_type": "code",
   "execution_count": 10,
   "id": "d5b59486-2b17-47f1-8d49-4694f61462d7",
   "metadata": {},
   "outputs": [
    {
     "name": "stdout",
     "output_type": "stream",
     "text": [
      "Probability of girl loves english or boys love maths subject is  0.35\n"
     ]
    }
   ],
   "source": [
    "total_girls_love_english = 12\n",
    "total_boys_love_maths = 23\n",
    "total_student = 100\n",
    "\n",
    "#probaility of girls loves english \n",
    "total_girls_love_english = 12\n",
    "prob_girl_love_english = round(total_girls_love_english/total_student,2)\n",
    "\n",
    "#probaility of girls loves english \n",
    "total_boys_love_maths = 23\n",
    "prob_boys_love_maths = round(total_boys_love_maths/total_student,2)\n",
    "\n",
    "# as per independent event formula,\n",
    "prob_girls_love_english_and_boys_loves_maths = prob_boys_love_maths + prob_girl_love_english\n",
    "print(\"Probability of girl loves english or boys love maths subject is \",prob_girls_love_english_and_boys_loves_maths)"
   ]
  },
  {
   "cell_type": "code",
   "execution_count": null,
   "id": "6e5019d7-ab72-406e-82ec-ff01f66cc544",
   "metadata": {},
   "outputs": [],
   "source": []
  }
 ],
 "metadata": {
  "kernelspec": {
   "display_name": "Python 3 (ipykernel)",
   "language": "python",
   "name": "python3"
  },
  "language_info": {
   "codemirror_mode": {
    "name": "ipython",
    "version": 3
   },
   "file_extension": ".py",
   "mimetype": "text/x-python",
   "name": "python",
   "nbconvert_exporter": "python",
   "pygments_lexer": "ipython3",
   "version": "3.12.6"
  }
 },
 "nbformat": 4,
 "nbformat_minor": 5
}
